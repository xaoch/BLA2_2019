{
  "cells": [
    {
      "metadata": {
        "collapsed": true
      },
      "cell_type": "markdown",
      "source": "# Multimodal Learning Analytics Assignments\n\nAs discussed in classroom, you will be given the features extracted from the raw recordings.  It is up to you to create any type of report that help us understand better the collaboration.\n\nHere is the data:\n\n## OpenPose - Skeleton\n\nThe video was feed to the <a href=\"https://github.com/CMU-Perceptual-Computing-Lab/openpose\">OpenPose</a> library to extract the skeleton of body landmarks of the participant.\n\nThe data was originally in json, but it was converted into a csv file for your convinience.  It only contains the 1000 first video frames (that is almost 67 seconds of the video).\n\nLet's load it:"
    },
    {
      "metadata": {
        "trusted": true
      },
      "cell_type": "code",
      "source": "import pandas as pd\n\nskeletons= pd.read_csv(\"openPose.csv\")\nskeletons.columns",
      "execution_count": 33,
      "outputs": [
        {
          "output_type": "execute_result",
          "execution_count": 33,
          "data": {
            "text/plain": "Index(['frame', 'Nose_x', 'Nose_y', 'Nose_c', 'Neck_x', 'Neck_y', 'Neck_c',\n       'RShoulder_x', 'RShoulder_y', 'RShoulder_c', 'RElbow_x', 'RElbow_y',\n       'RElbow_c', 'RWrist_x', 'RWrist_y', 'RWrist_c', 'LShoulder_x',\n       'LShoulder_y', 'LShoulder_c', 'LElbow_x', 'LElbow_y', 'LElbow_c',\n       'LWrist_x', 'LWrist_y', 'LWrist_c', 'MidHip_x', 'MidHip_y', 'MidHip_c',\n       'RHip_x', 'RHip_y', 'RHip_c', 'RKnee_x', 'RKnee_y', 'RKnee_c',\n       'RAnkle_x', 'RAnkle_y', 'RAnkle_c', 'LHip_x', 'LHip_y', 'LHip_c',\n       'LKnee_x', 'LKnee_y', 'LKnee_c', 'LAnkle_x', 'LAnkle_y', 'LAnkle_c',\n       'REye_x', 'REye_y', 'REye_c', 'LEye_x', 'LEye_y', 'LEye_c', 'REar_x',\n       'REar_y', 'REar_c', 'LEar_x', 'LEar_y', 'LEar_c', 'LBigToe_x',\n       'LBigToe_y', 'LBigToe_c', 'LSmallToe_x', 'LSmallToe_y', 'LSmallToe_c',\n       'LHeel_x', 'LHeel_y', 'LHeel_c', 'RBigToe_x', 'RBigToe_y', 'RBigToe_c',\n       'RSmallToe_x', 'RSmallToe_y', 'RSmallToe_c', 'RHeel_x', 'RHeel_y',\n       'RHeel_c'],\n      dtype='object')"
          },
          "metadata": {}
        }
      ]
    },
    {
      "metadata": {},
      "cell_type": "markdown",
      "source": "Each row in the datasframe contains the frame number (first column) followed by the position and confidence of each one of the body landmarks.  These body landmarks can be seen in the columns names.  'x' and 'y' are the coordinates of that landmark and 'c' is the confidence of the detection."
    },
    {
      "metadata": {
        "trusted": true
      },
      "cell_type": "code",
      "source": "skeletons.columns",
      "execution_count": 6,
      "outputs": [
        {
          "output_type": "execute_result",
          "execution_count": 6,
          "data": {
            "text/plain": "Index(['frame', 'Nose_x', 'Nose_y', 'Nose_c', 'Neck_x', 'Neck_y', 'Neck_c',\n       'RShoulder_x', 'Shoulder_y', 'RShoulder_c', 'RElbow_x', 'RElbow_y',\n       'RElbow_c', 'RWrist_x', 'RWrist_y', 'RWrist_c', 'LShoulder_x',\n       'LShoulder_y', 'LShoulder_c', 'LElbow_x', 'LElbow_y', 'LElbow_c',\n       'LWrist_x', 'LWrist_y', 'LWrist_c', 'MidHip_x', 'MidHip_y', 'MidHip_c',\n       'RHip_x', 'RHip_y', 'RHip_c', 'RKnee_x', 'RKnee_y', 'RKnee_c',\n       'RAnkle_x', 'RAnkle_y', 'RAnkle_c', 'LHip_x', 'LHip_y', 'LHip_c',\n       'LKnee_x', 'LKnee_y', 'LKnee_c', 'LAnkle_x', 'LAnkle_y', 'LAnkle_c',\n       'REye_x', 'REye_y', 'REye_c', 'LEye_x', 'LEye_y', 'LEye_c', 'REar_x',\n       'REar_y', 'REar_c', 'LEar_x', 'LEar_y', 'LEar_c', 'LBigToe_x',\n       'LBigToe_y', 'LBigToe_c', 'LSmallToe_x', 'LSmallToe_y', 'LSmallToe_c',\n       'LHeel_x', 'LHeel_y', 'LHeel_c', 'RBigToe_x', 'RBigToe_y', 'RBigToe_c',\n       'RSmallToe_x', 'RSmallToe_y', 'RSmallToe_c', 'RHeel_x', 'RHeel_y',\n       'RHeel_c'],\n      dtype='object')"
          },
          "metadata": {}
        }
      ]
    },
    {
      "metadata": {},
      "cell_type": "markdown",
      "source": "## OpenFace - Face Landmarks and Action Units\n\nThen we extract the facial features from each frame using the <a href=\"https://github.com/TadasBaltrusaitis/OpenFace\">OpenFace library</a>. \n\nThe format of the CSV is explained in this <a href=\"https://github.com/TadasBaltrusaitis/OpenFace/wiki/Output-Format\">webpage</a>.  "
    },
    {
      "metadata": {
        "trusted": true
      },
      "cell_type": "code",
      "source": "faces = pd.read_csv('openFace.csv')\nfaces.head()",
      "execution_count": 7,
      "outputs": [
        {
          "output_type": "execute_result",
          "execution_count": 7,
          "data": {
            "text/html": "<div>\n<style scoped>\n    .dataframe tbody tr th:only-of-type {\n        vertical-align: middle;\n    }\n\n    .dataframe tbody tr th {\n        vertical-align: top;\n    }\n\n    .dataframe thead th {\n        text-align: right;\n    }\n</style>\n<table border=\"1\" class=\"dataframe\">\n  <thead>\n    <tr style=\"text-align: right;\">\n      <th></th>\n      <th>Unnamed: 0</th>\n      <th>frame</th>\n      <th>face_id</th>\n      <th>timestamp</th>\n      <th>confidence</th>\n      <th>success</th>\n      <th>gaze_0_x</th>\n      <th>gaze_0_y</th>\n      <th>gaze_0_z</th>\n      <th>gaze_1_x</th>\n      <th>...</th>\n      <th>AU12_c</th>\n      <th>AU14_c</th>\n      <th>AU15_c</th>\n      <th>AU17_c</th>\n      <th>AU20_c</th>\n      <th>AU23_c</th>\n      <th>AU25_c</th>\n      <th>AU26_c</th>\n      <th>AU28_c</th>\n      <th>AU45_c</th>\n    </tr>\n  </thead>\n  <tbody>\n    <tr>\n      <th>0</th>\n      <td>0</td>\n      <td>1</td>\n      <td>0</td>\n      <td>0.000</td>\n      <td>0.98</td>\n      <td>1</td>\n      <td>0.381562</td>\n      <td>0.025194</td>\n      <td>-0.924000</td>\n      <td>0.287852</td>\n      <td>...</td>\n      <td>0.0</td>\n      <td>0.0</td>\n      <td>0.0</td>\n      <td>0.0</td>\n      <td>0.0</td>\n      <td>0.0</td>\n      <td>1.0</td>\n      <td>1.0</td>\n      <td>1.0</td>\n      <td>1.0</td>\n    </tr>\n    <tr>\n      <th>1</th>\n      <td>1</td>\n      <td>1</td>\n      <td>1</td>\n      <td>0.000</td>\n      <td>0.88</td>\n      <td>1</td>\n      <td>-0.244583</td>\n      <td>-0.097918</td>\n      <td>-0.964672</td>\n      <td>-0.378948</td>\n      <td>...</td>\n      <td>0.0</td>\n      <td>1.0</td>\n      <td>1.0</td>\n      <td>0.0</td>\n      <td>1.0</td>\n      <td>1.0</td>\n      <td>0.0</td>\n      <td>0.0</td>\n      <td>0.0</td>\n      <td>1.0</td>\n    </tr>\n    <tr>\n      <th>2</th>\n      <td>2</td>\n      <td>1</td>\n      <td>2</td>\n      <td>0.000</td>\n      <td>0.98</td>\n      <td>1</td>\n      <td>-0.278326</td>\n      <td>0.092222</td>\n      <td>-0.956049</td>\n      <td>-0.408839</td>\n      <td>...</td>\n      <td>0.0</td>\n      <td>1.0</td>\n      <td>1.0</td>\n      <td>0.0</td>\n      <td>1.0</td>\n      <td>1.0</td>\n      <td>0.0</td>\n      <td>0.0</td>\n      <td>1.0</td>\n      <td>0.0</td>\n    </tr>\n    <tr>\n      <th>3</th>\n      <td>3</td>\n      <td>1</td>\n      <td>3</td>\n      <td>0.000</td>\n      <td>0.88</td>\n      <td>1</td>\n      <td>-0.509604</td>\n      <td>-0.072266</td>\n      <td>-0.857369</td>\n      <td>-0.600042</td>\n      <td>...</td>\n      <td>1.0</td>\n      <td>0.0</td>\n      <td>1.0</td>\n      <td>0.0</td>\n      <td>1.0</td>\n      <td>0.0</td>\n      <td>1.0</td>\n      <td>0.0</td>\n      <td>0.0</td>\n      <td>1.0</td>\n    </tr>\n    <tr>\n      <th>4</th>\n      <td>4</td>\n      <td>2</td>\n      <td>0</td>\n      <td>0.067</td>\n      <td>0.98</td>\n      <td>1</td>\n      <td>0.354185</td>\n      <td>0.053495</td>\n      <td>-0.933644</td>\n      <td>0.262728</td>\n      <td>...</td>\n      <td>0.0</td>\n      <td>0.0</td>\n      <td>1.0</td>\n      <td>0.0</td>\n      <td>0.0</td>\n      <td>0.0</td>\n      <td>1.0</td>\n      <td>1.0</td>\n      <td>1.0</td>\n      <td>1.0</td>\n    </tr>\n  </tbody>\n</table>\n<p>5 rows × 715 columns</p>\n</div>",
            "text/plain": "   Unnamed: 0  frame   face_id   timestamp   confidence   success   gaze_0_x  \\\n0           0      1         0       0.000         0.98         1   0.381562   \n1           1      1         1       0.000         0.88         1  -0.244583   \n2           2      1         2       0.000         0.98         1  -0.278326   \n3           3      1         3       0.000         0.88         1  -0.509604   \n4           4      2         0       0.067         0.98         1   0.354185   \n\n    gaze_0_y   gaze_0_z   gaze_1_x   ...      AU12_c   AU14_c   AU15_c  \\\n0   0.025194  -0.924000   0.287852   ...         0.0      0.0      0.0   \n1  -0.097918  -0.964672  -0.378948   ...         0.0      1.0      1.0   \n2   0.092222  -0.956049  -0.408839   ...         0.0      1.0      1.0   \n3  -0.072266  -0.857369  -0.600042   ...         1.0      0.0      1.0   \n4   0.053495  -0.933644   0.262728   ...         0.0      0.0      1.0   \n\n    AU17_c   AU20_c   AU23_c   AU25_c   AU26_c   AU28_c   AU45_c  \n0      0.0      0.0      0.0      1.0      1.0      1.0      1.0  \n1      0.0      1.0      1.0      0.0      0.0      0.0      1.0  \n2      0.0      1.0      1.0      0.0      0.0      1.0      0.0  \n3      0.0      1.0      0.0      1.0      0.0      0.0      1.0  \n4      0.0      0.0      0.0      1.0      1.0      1.0      1.0  \n\n[5 rows x 715 columns]"
          },
          "metadata": {}
        }
      ]
    },
    {
      "metadata": {},
      "cell_type": "markdown",
      "source": "The most important features extracted are:\n\ngaze_angle_x, gaze_angle_y Eye gaze direction in radians in world coordinates averaged for both eyes and converted into more easy to use format than gaze vectors. If a person is looking left-right this will results in the change of gaze_angle_x (from positive to negative) and, if a person is looking up-down this will result in change of gaze_angle_y (from negative to positive), if a person is looking straight ahead both of the angles will be close to 0 (within measurement error).\n\npose_Tx, pose_Ty, pose_Tz the location of the head with respect to camera in millimeters (positive Z is away from the camera)\n\npose_Rx, pose_Ry, pose_Rz Rotation is in radians around X,Y,Z axes with the convention R = Rx * Ry * Rz, left-handed positive sign. This can be seen as pitch (Rx), yaw (Ry), and roll (Rz). The rotation is in world coordinates with camera being the origin."
    },
    {
      "metadata": {},
      "cell_type": "markdown",
      "source": "## Direction of Arrival - DOA\n\nNow we will get from the audio the direction of arrival of the sound.  This is an indicator of who is talking.\n\nEach audio frame is equal to 3 video frames.  A conversion needs to be done to synch the two signals.\n\nEach line in the data correspond to the angle from which the audio was comming."
    },
    {
      "metadata": {
        "trusted": true
      },
      "cell_type": "code",
      "source": "doa = pd.read_csv('doa.csv')\ndoa.head()",
      "execution_count": 11,
      "outputs": [
        {
          "output_type": "execute_result",
          "execution_count": 11,
          "data": {
            "text/html": "<div>\n<style scoped>\n    .dataframe tbody tr th:only-of-type {\n        vertical-align: middle;\n    }\n\n    .dataframe tbody tr th {\n        vertical-align: top;\n    }\n\n    .dataframe thead th {\n        text-align: right;\n    }\n</style>\n<table border=\"1\" class=\"dataframe\">\n  <thead>\n    <tr style=\"text-align: right;\">\n      <th></th>\n      <th>frame</th>\n      <th>doa</th>\n    </tr>\n  </thead>\n  <tbody>\n    <tr>\n      <th>0</th>\n      <td>0</td>\n      <td>[62.]</td>\n    </tr>\n    <tr>\n      <th>1</th>\n      <td>1</td>\n      <td>[61.]</td>\n    </tr>\n    <tr>\n      <th>2</th>\n      <td>2</td>\n      <td>[59.]</td>\n    </tr>\n    <tr>\n      <th>3</th>\n      <td>3</td>\n      <td>[58.]</td>\n    </tr>\n    <tr>\n      <th>4</th>\n      <td>4</td>\n      <td>[58.]</td>\n    </tr>\n  </tbody>\n</table>\n</div>",
            "text/plain": "   frame    doa\n0      0  [62.]\n1      1  [61.]\n2      2  [59.]\n3      3  [58.]\n4      4  [58.]"
          },
          "metadata": {}
        }
      ]
    },
    {
      "metadata": {},
      "cell_type": "markdown",
      "source": "# Words being said\n\nWe also have an automatic transcript of all the words being said.\n\nIn the data we have the following columns:\n\n* type:  if it is text or punctuation\n* value:  word or puntuation sign\n* start: time at which the word started (only for type text)\n* end:  time at which the word ended (only for type text)\n* confidence: probability that the word is correct\n"
    },
    {
      "metadata": {
        "trusted": true
      },
      "cell_type": "code",
      "source": "words = pd.read_csv('words.csv')\nwords.head()",
      "execution_count": 10,
      "outputs": [
        {
          "output_type": "execute_result",
          "execution_count": 10,
          "data": {
            "text/html": "<div>\n<style scoped>\n    .dataframe tbody tr th:only-of-type {\n        vertical-align: middle;\n    }\n\n    .dataframe tbody tr th {\n        vertical-align: top;\n    }\n\n    .dataframe thead th {\n        text-align: right;\n    }\n</style>\n<table border=\"1\" class=\"dataframe\">\n  <thead>\n    <tr style=\"text-align: right;\">\n      <th></th>\n      <th>type</th>\n      <th>value</th>\n      <th>start</th>\n      <th>end</th>\n      <th>confidence</th>\n    </tr>\n  </thead>\n  <tbody>\n    <tr>\n      <th>0</th>\n      <td>text</td>\n      <td>Physical</td>\n      <td>0.24</td>\n      <td>0.72</td>\n      <td>1.00</td>\n    </tr>\n    <tr>\n      <th>1</th>\n      <td>punct</td>\n      <td></td>\n      <td>0.00</td>\n      <td>0.00</td>\n      <td>0.00</td>\n    </tr>\n    <tr>\n      <th>2</th>\n      <td>text</td>\n      <td>assessments</td>\n      <td>0.72</td>\n      <td>1.32</td>\n      <td>0.95</td>\n    </tr>\n    <tr>\n      <th>3</th>\n      <td>punct</td>\n      <td>.</td>\n      <td>0.00</td>\n      <td>0.00</td>\n      <td>0.00</td>\n    </tr>\n    <tr>\n      <th>4</th>\n      <td>punct</td>\n      <td></td>\n      <td>0.00</td>\n      <td>0.00</td>\n      <td>0.00</td>\n    </tr>\n  </tbody>\n</table>\n</div>",
            "text/plain": "    type        value  start   end  confidence\n0   text     Physical   0.24  0.72        1.00\n1  punct                0.00  0.00        0.00\n2   text  assessments   0.72  1.32        0.95\n3  punct            .   0.00  0.00        0.00\n4  punct                0.00  0.00        0.00"
          },
          "metadata": {}
        }
      ]
    },
    {
      "metadata": {},
      "cell_type": "markdown",
      "source": "## Useful functions to mix features\n\n### Getting the person out of the skeleton position\n\nBased on the position of the center of the person (for example their neck), we classify it as person A, B, C, D or E corresponding to the 5 persons present in the video."
    },
    {
      "metadata": {
        "trusted": true
      },
      "cell_type": "code",
      "source": "def identifyPerson(position_X):\n    posX=position_X\n    if posX<400:\n        return \"A\"\n    if posX>399 and posX<800:\n        return \"B\"\n    if posX>799 and posX<1200:\n        return \"C\"\n    if posX>1119 and posX<1500:\n        return \"D\"\n    if posX>1499:\n        return \"E\"",
      "execution_count": 27,
      "outputs": []
    },
    {
      "metadata": {},
      "cell_type": "markdown",
      "source": "Example: "
    },
    {
      "metadata": {
        "trusted": true
      },
      "cell_type": "code",
      "source": "skeletons[\"Person\"]=skeletons.apply(lambda x: identifyPerson(x[\"Neck_x\"]),axis=1)\nskeletons.head()",
      "execution_count": 34,
      "outputs": [
        {
          "output_type": "execute_result",
          "execution_count": 34,
          "data": {
            "text/html": "<div>\n<style scoped>\n    .dataframe tbody tr th:only-of-type {\n        vertical-align: middle;\n    }\n\n    .dataframe tbody tr th {\n        vertical-align: top;\n    }\n\n    .dataframe thead th {\n        text-align: right;\n    }\n</style>\n<table border=\"1\" class=\"dataframe\">\n  <thead>\n    <tr style=\"text-align: right;\">\n      <th></th>\n      <th>frame</th>\n      <th>Nose_x</th>\n      <th>Nose_y</th>\n      <th>Nose_c</th>\n      <th>Neck_x</th>\n      <th>Neck_y</th>\n      <th>Neck_c</th>\n      <th>RShoulder_x</th>\n      <th>RShoulder_y</th>\n      <th>RShoulder_c</th>\n      <th>...</th>\n      <th>RBigToe_x</th>\n      <th>RBigToe_y</th>\n      <th>RBigToe_c</th>\n      <th>RSmallToe_x</th>\n      <th>RSmallToe_y</th>\n      <th>RSmallToe_c</th>\n      <th>RHeel_x</th>\n      <th>RHeel_y</th>\n      <th>RHeel_c</th>\n      <th>Person</th>\n    </tr>\n  </thead>\n  <tbody>\n    <tr>\n      <th>0</th>\n      <td>1</td>\n      <td>1380.120</td>\n      <td>237.946</td>\n      <td>0.842359</td>\n      <td>1378.950</td>\n      <td>320.470</td>\n      <td>0.628099</td>\n      <td>1324.67</td>\n      <td>321.617</td>\n      <td>0.474629</td>\n      <td>...</td>\n      <td>0.0</td>\n      <td>0.0</td>\n      <td>0.0</td>\n      <td>0.0</td>\n      <td>0.0</td>\n      <td>0.0</td>\n      <td>0.0</td>\n      <td>0.0</td>\n      <td>0.0</td>\n      <td>D</td>\n    </tr>\n    <tr>\n      <th>1</th>\n      <td>1</td>\n      <td>636.008</td>\n      <td>222.131</td>\n      <td>0.818794</td>\n      <td>662.023</td>\n      <td>322.781</td>\n      <td>0.326987</td>\n      <td>573.81</td>\n      <td>328.430</td>\n      <td>0.131443</td>\n      <td>...</td>\n      <td>0.0</td>\n      <td>0.0</td>\n      <td>0.0</td>\n      <td>0.0</td>\n      <td>0.0</td>\n      <td>0.0</td>\n      <td>0.0</td>\n      <td>0.0</td>\n      <td>0.0</td>\n      <td>B</td>\n    </tr>\n    <tr>\n      <th>2</th>\n      <td>1</td>\n      <td>1658.230</td>\n      <td>240.215</td>\n      <td>0.607570</td>\n      <td>1657.120</td>\n      <td>288.842</td>\n      <td>0.491983</td>\n      <td>1602.81</td>\n      <td>291.126</td>\n      <td>0.446046</td>\n      <td>...</td>\n      <td>0.0</td>\n      <td>0.0</td>\n      <td>0.0</td>\n      <td>0.0</td>\n      <td>0.0</td>\n      <td>0.0</td>\n      <td>0.0</td>\n      <td>0.0</td>\n      <td>0.0</td>\n      <td>E</td>\n    </tr>\n    <tr>\n      <th>3</th>\n      <td>2</td>\n      <td>1380.120</td>\n      <td>237.972</td>\n      <td>0.868445</td>\n      <td>1377.800</td>\n      <td>321.625</td>\n      <td>0.675298</td>\n      <td>1324.65</td>\n      <td>321.663</td>\n      <td>0.548460</td>\n      <td>...</td>\n      <td>0.0</td>\n      <td>0.0</td>\n      <td>0.0</td>\n      <td>0.0</td>\n      <td>0.0</td>\n      <td>0.0</td>\n      <td>0.0</td>\n      <td>0.0</td>\n      <td>0.0</td>\n      <td>D</td>\n    </tr>\n    <tr>\n      <th>4</th>\n      <td>2</td>\n      <td>1098.490</td>\n      <td>249.242</td>\n      <td>0.841802</td>\n      <td>1134.670</td>\n      <td>320.484</td>\n      <td>0.661226</td>\n      <td>1073.62</td>\n      <td>325.023</td>\n      <td>0.497669</td>\n      <td>...</td>\n      <td>0.0</td>\n      <td>0.0</td>\n      <td>0.0</td>\n      <td>0.0</td>\n      <td>0.0</td>\n      <td>0.0</td>\n      <td>0.0</td>\n      <td>0.0</td>\n      <td>0.0</td>\n      <td>C</td>\n    </tr>\n  </tbody>\n</table>\n<p>5 rows × 77 columns</p>\n</div>",
            "text/plain": "   frame    Nose_x   Nose_y    Nose_c    Neck_x   Neck_y    Neck_c  \\\n0      1  1380.120  237.946  0.842359  1378.950  320.470  0.628099   \n1      1   636.008  222.131  0.818794   662.023  322.781  0.326987   \n2      1  1658.230  240.215  0.607570  1657.120  288.842  0.491983   \n3      2  1380.120  237.972  0.868445  1377.800  321.625  0.675298   \n4      2  1098.490  249.242  0.841802  1134.670  320.484  0.661226   \n\n   RShoulder_x  RShoulder_y  RShoulder_c   ...    RBigToe_x  RBigToe_y  \\\n0      1324.67      321.617     0.474629   ...          0.0        0.0   \n1       573.81      328.430     0.131443   ...          0.0        0.0   \n2      1602.81      291.126     0.446046   ...          0.0        0.0   \n3      1324.65      321.663     0.548460   ...          0.0        0.0   \n4      1073.62      325.023     0.497669   ...          0.0        0.0   \n\n   RBigToe_c  RSmallToe_x  RSmallToe_y  RSmallToe_c  RHeel_x  RHeel_y  \\\n0        0.0          0.0          0.0          0.0      0.0      0.0   \n1        0.0          0.0          0.0          0.0      0.0      0.0   \n2        0.0          0.0          0.0          0.0      0.0      0.0   \n3        0.0          0.0          0.0          0.0      0.0      0.0   \n4        0.0          0.0          0.0          0.0      0.0      0.0   \n\n   RHeel_c  Person  \n0      0.0       D  \n1      0.0       B  \n2      0.0       E  \n3      0.0       D  \n4      0.0       C  \n\n[5 rows x 77 columns]"
          },
          "metadata": {}
        }
      ]
    },
    {
      "metadata": {},
      "cell_type": "markdown",
      "source": "## Elimante background people\n\nWe use the distance between the shoulders to elimante small persons in the background."
    },
    {
      "metadata": {
        "trusted": true
      },
      "cell_type": "code",
      "source": "import math\n\ndef isInterestingPerson(RShoulder_x,RShoulder_y,LShoulder_x,LShoulder_y):\n    RSX=RShoulder_x\n    RSY=RShoulder_y\n    LSX=LShoulder_x\n    LSY=LShoulder_y\n    distShoulders=math.sqrt(math.pow(RSX - LSX, 2) + math.pow(RSY - LSY, 2))\n    if distShoulders>60:\n        return True\n    else:\n        return False",
      "execution_count": 37,
      "outputs": []
    },
    {
      "metadata": {
        "trusted": true
      },
      "cell_type": "code",
      "source": "skeletons[\"Interesting\"]=skeletons.apply(lambda x: isInterestingPerson(x[\"RShoulder_x\"],x[\"RShoulder_y\"],x[\"LShoulder_x\"],x[\"LShoulder_y\"]),axis=1)\nskeletons.head()",
      "execution_count": 38,
      "outputs": [
        {
          "output_type": "execute_result",
          "execution_count": 38,
          "data": {
            "text/html": "<div>\n<style scoped>\n    .dataframe tbody tr th:only-of-type {\n        vertical-align: middle;\n    }\n\n    .dataframe tbody tr th {\n        vertical-align: top;\n    }\n\n    .dataframe thead th {\n        text-align: right;\n    }\n</style>\n<table border=\"1\" class=\"dataframe\">\n  <thead>\n    <tr style=\"text-align: right;\">\n      <th></th>\n      <th>frame</th>\n      <th>Nose_x</th>\n      <th>Nose_y</th>\n      <th>Nose_c</th>\n      <th>Neck_x</th>\n      <th>Neck_y</th>\n      <th>Neck_c</th>\n      <th>RShoulder_x</th>\n      <th>RShoulder_y</th>\n      <th>RShoulder_c</th>\n      <th>...</th>\n      <th>RBigToe_y</th>\n      <th>RBigToe_c</th>\n      <th>RSmallToe_x</th>\n      <th>RSmallToe_y</th>\n      <th>RSmallToe_c</th>\n      <th>RHeel_x</th>\n      <th>RHeel_y</th>\n      <th>RHeel_c</th>\n      <th>Person</th>\n      <th>Interesting</th>\n    </tr>\n  </thead>\n  <tbody>\n    <tr>\n      <th>0</th>\n      <td>1</td>\n      <td>1380.120</td>\n      <td>237.946</td>\n      <td>0.842359</td>\n      <td>1378.950</td>\n      <td>320.470</td>\n      <td>0.628099</td>\n      <td>1324.67</td>\n      <td>321.617</td>\n      <td>0.474629</td>\n      <td>...</td>\n      <td>0.0</td>\n      <td>0.0</td>\n      <td>0.0</td>\n      <td>0.0</td>\n      <td>0.0</td>\n      <td>0.0</td>\n      <td>0.0</td>\n      <td>0.0</td>\n      <td>D</td>\n      <td>True</td>\n    </tr>\n    <tr>\n      <th>1</th>\n      <td>1</td>\n      <td>636.008</td>\n      <td>222.131</td>\n      <td>0.818794</td>\n      <td>662.023</td>\n      <td>322.781</td>\n      <td>0.326987</td>\n      <td>573.81</td>\n      <td>328.430</td>\n      <td>0.131443</td>\n      <td>...</td>\n      <td>0.0</td>\n      <td>0.0</td>\n      <td>0.0</td>\n      <td>0.0</td>\n      <td>0.0</td>\n      <td>0.0</td>\n      <td>0.0</td>\n      <td>0.0</td>\n      <td>B</td>\n      <td>True</td>\n    </tr>\n    <tr>\n      <th>2</th>\n      <td>1</td>\n      <td>1658.230</td>\n      <td>240.215</td>\n      <td>0.607570</td>\n      <td>1657.120</td>\n      <td>288.842</td>\n      <td>0.491983</td>\n      <td>1602.81</td>\n      <td>291.126</td>\n      <td>0.446046</td>\n      <td>...</td>\n      <td>0.0</td>\n      <td>0.0</td>\n      <td>0.0</td>\n      <td>0.0</td>\n      <td>0.0</td>\n      <td>0.0</td>\n      <td>0.0</td>\n      <td>0.0</td>\n      <td>E</td>\n      <td>True</td>\n    </tr>\n    <tr>\n      <th>3</th>\n      <td>2</td>\n      <td>1380.120</td>\n      <td>237.972</td>\n      <td>0.868445</td>\n      <td>1377.800</td>\n      <td>321.625</td>\n      <td>0.675298</td>\n      <td>1324.65</td>\n      <td>321.663</td>\n      <td>0.548460</td>\n      <td>...</td>\n      <td>0.0</td>\n      <td>0.0</td>\n      <td>0.0</td>\n      <td>0.0</td>\n      <td>0.0</td>\n      <td>0.0</td>\n      <td>0.0</td>\n      <td>0.0</td>\n      <td>D</td>\n      <td>True</td>\n    </tr>\n    <tr>\n      <th>4</th>\n      <td>2</td>\n      <td>1098.490</td>\n      <td>249.242</td>\n      <td>0.841802</td>\n      <td>1134.670</td>\n      <td>320.484</td>\n      <td>0.661226</td>\n      <td>1073.62</td>\n      <td>325.023</td>\n      <td>0.497669</td>\n      <td>...</td>\n      <td>0.0</td>\n      <td>0.0</td>\n      <td>0.0</td>\n      <td>0.0</td>\n      <td>0.0</td>\n      <td>0.0</td>\n      <td>0.0</td>\n      <td>0.0</td>\n      <td>C</td>\n      <td>True</td>\n    </tr>\n  </tbody>\n</table>\n<p>5 rows × 78 columns</p>\n</div>",
            "text/plain": "   frame    Nose_x   Nose_y    Nose_c    Neck_x   Neck_y    Neck_c  \\\n0      1  1380.120  237.946  0.842359  1378.950  320.470  0.628099   \n1      1   636.008  222.131  0.818794   662.023  322.781  0.326987   \n2      1  1658.230  240.215  0.607570  1657.120  288.842  0.491983   \n3      2  1380.120  237.972  0.868445  1377.800  321.625  0.675298   \n4      2  1098.490  249.242  0.841802  1134.670  320.484  0.661226   \n\n   RShoulder_x  RShoulder_y  RShoulder_c     ...       RBigToe_y  RBigToe_c  \\\n0      1324.67      321.617     0.474629     ...             0.0        0.0   \n1       573.81      328.430     0.131443     ...             0.0        0.0   \n2      1602.81      291.126     0.446046     ...             0.0        0.0   \n3      1324.65      321.663     0.548460     ...             0.0        0.0   \n4      1073.62      325.023     0.497669     ...             0.0        0.0   \n\n   RSmallToe_x  RSmallToe_y  RSmallToe_c  RHeel_x  RHeel_y  RHeel_c  Person  \\\n0          0.0          0.0          0.0      0.0      0.0      0.0       D   \n1          0.0          0.0          0.0      0.0      0.0      0.0       B   \n2          0.0          0.0          0.0      0.0      0.0      0.0       E   \n3          0.0          0.0          0.0      0.0      0.0      0.0       D   \n4          0.0          0.0          0.0      0.0      0.0      0.0       C   \n\n   Interesting  \n0         True  \n1         True  \n2         True  \n3         True  \n4         True  \n\n[5 rows x 78 columns]"
          },
          "metadata": {}
        }
      ]
    },
    {
      "metadata": {},
      "cell_type": "markdown",
      "source": "## Conversion from position to angle \n\nTo convert from the positon to the angle at which a person is, we use this function:\n"
    },
    {
      "metadata": {
        "trusted": true
      },
      "cell_type": "code",
      "source": "def anglePerson(posX):\n    return math.degrees((posX/1935)*(2*math.pi))",
      "execution_count": 39,
      "outputs": []
    },
    {
      "metadata": {
        "trusted": true
      },
      "cell_type": "code",
      "source": "skeletons[\"Angle\"]=skeletons.apply(lambda x: anglePerson(x[\"Neck_x\"]),axis=1)\nskeletons.head()",
      "execution_count": 40,
      "outputs": [
        {
          "output_type": "execute_result",
          "execution_count": 40,
          "data": {
            "text/html": "<div>\n<style scoped>\n    .dataframe tbody tr th:only-of-type {\n        vertical-align: middle;\n    }\n\n    .dataframe tbody tr th {\n        vertical-align: top;\n    }\n\n    .dataframe thead th {\n        text-align: right;\n    }\n</style>\n<table border=\"1\" class=\"dataframe\">\n  <thead>\n    <tr style=\"text-align: right;\">\n      <th></th>\n      <th>frame</th>\n      <th>Nose_x</th>\n      <th>Nose_y</th>\n      <th>Nose_c</th>\n      <th>Neck_x</th>\n      <th>Neck_y</th>\n      <th>Neck_c</th>\n      <th>RShoulder_x</th>\n      <th>RShoulder_y</th>\n      <th>RShoulder_c</th>\n      <th>...</th>\n      <th>RBigToe_c</th>\n      <th>RSmallToe_x</th>\n      <th>RSmallToe_y</th>\n      <th>RSmallToe_c</th>\n      <th>RHeel_x</th>\n      <th>RHeel_y</th>\n      <th>RHeel_c</th>\n      <th>Person</th>\n      <th>Interesting</th>\n      <th>Angle</th>\n    </tr>\n  </thead>\n  <tbody>\n    <tr>\n      <th>0</th>\n      <td>1</td>\n      <td>1380.120</td>\n      <td>237.946</td>\n      <td>0.842359</td>\n      <td>1378.950</td>\n      <td>320.470</td>\n      <td>0.628099</td>\n      <td>1324.67</td>\n      <td>321.617</td>\n      <td>0.474629</td>\n      <td>...</td>\n      <td>0.0</td>\n      <td>0.0</td>\n      <td>0.0</td>\n      <td>0.0</td>\n      <td>0.0</td>\n      <td>0.0</td>\n      <td>0.0</td>\n      <td>D</td>\n      <td>True</td>\n      <td>256.548837</td>\n    </tr>\n    <tr>\n      <th>1</th>\n      <td>1</td>\n      <td>636.008</td>\n      <td>222.131</td>\n      <td>0.818794</td>\n      <td>662.023</td>\n      <td>322.781</td>\n      <td>0.326987</td>\n      <td>573.81</td>\n      <td>328.430</td>\n      <td>0.131443</td>\n      <td>...</td>\n      <td>0.0</td>\n      <td>0.0</td>\n      <td>0.0</td>\n      <td>0.0</td>\n      <td>0.0</td>\n      <td>0.0</td>\n      <td>0.0</td>\n      <td>B</td>\n      <td>True</td>\n      <td>123.167070</td>\n    </tr>\n    <tr>\n      <th>2</th>\n      <td>1</td>\n      <td>1658.230</td>\n      <td>240.215</td>\n      <td>0.607570</td>\n      <td>1657.120</td>\n      <td>288.842</td>\n      <td>0.491983</td>\n      <td>1602.81</td>\n      <td>291.126</td>\n      <td>0.446046</td>\n      <td>...</td>\n      <td>0.0</td>\n      <td>0.0</td>\n      <td>0.0</td>\n      <td>0.0</td>\n      <td>0.0</td>\n      <td>0.0</td>\n      <td>0.0</td>\n      <td>E</td>\n      <td>True</td>\n      <td>308.301395</td>\n    </tr>\n    <tr>\n      <th>3</th>\n      <td>2</td>\n      <td>1380.120</td>\n      <td>237.972</td>\n      <td>0.868445</td>\n      <td>1377.800</td>\n      <td>321.625</td>\n      <td>0.675298</td>\n      <td>1324.65</td>\n      <td>321.663</td>\n      <td>0.548460</td>\n      <td>...</td>\n      <td>0.0</td>\n      <td>0.0</td>\n      <td>0.0</td>\n      <td>0.0</td>\n      <td>0.0</td>\n      <td>0.0</td>\n      <td>0.0</td>\n      <td>D</td>\n      <td>True</td>\n      <td>256.334884</td>\n    </tr>\n    <tr>\n      <th>4</th>\n      <td>2</td>\n      <td>1098.490</td>\n      <td>249.242</td>\n      <td>0.841802</td>\n      <td>1134.670</td>\n      <td>320.484</td>\n      <td>0.661226</td>\n      <td>1073.62</td>\n      <td>325.023</td>\n      <td>0.497669</td>\n      <td>...</td>\n      <td>0.0</td>\n      <td>0.0</td>\n      <td>0.0</td>\n      <td>0.0</td>\n      <td>0.0</td>\n      <td>0.0</td>\n      <td>0.0</td>\n      <td>C</td>\n      <td>True</td>\n      <td>211.101395</td>\n    </tr>\n  </tbody>\n</table>\n<p>5 rows × 79 columns</p>\n</div>",
            "text/plain": "   frame    Nose_x   Nose_y    Nose_c    Neck_x   Neck_y    Neck_c  \\\n0      1  1380.120  237.946  0.842359  1378.950  320.470  0.628099   \n1      1   636.008  222.131  0.818794   662.023  322.781  0.326987   \n2      1  1658.230  240.215  0.607570  1657.120  288.842  0.491983   \n3      2  1380.120  237.972  0.868445  1377.800  321.625  0.675298   \n4      2  1098.490  249.242  0.841802  1134.670  320.484  0.661226   \n\n   RShoulder_x  RShoulder_y  RShoulder_c     ...      RBigToe_c  RSmallToe_x  \\\n0      1324.67      321.617     0.474629     ...            0.0          0.0   \n1       573.81      328.430     0.131443     ...            0.0          0.0   \n2      1602.81      291.126     0.446046     ...            0.0          0.0   \n3      1324.65      321.663     0.548460     ...            0.0          0.0   \n4      1073.62      325.023     0.497669     ...            0.0          0.0   \n\n   RSmallToe_y  RSmallToe_c  RHeel_x  RHeel_y  RHeel_c  Person  Interesting  \\\n0          0.0          0.0      0.0      0.0      0.0       D         True   \n1          0.0          0.0      0.0      0.0      0.0       B         True   \n2          0.0          0.0      0.0      0.0      0.0       E         True   \n3          0.0          0.0      0.0      0.0      0.0       D         True   \n4          0.0          0.0      0.0      0.0      0.0       C         True   \n\n        Angle  \n0  256.548837  \n1  123.167070  \n2  308.301395  \n3  256.334884  \n4  211.101395  \n\n[5 rows x 79 columns]"
          },
          "metadata": {}
        }
      ]
    },
    {
      "metadata": {},
      "cell_type": "markdown",
      "source": "## Rough gaze direction from skeleton"
    },
    {
      "metadata": {
        "trusted": true
      },
      "cell_type": "code",
      "source": "def gaze(person):\n    NoX=person[\"Nose_x\"]\n    NoY=person[\"Nose_y\"]\n    NeX=person[\"Neck_x\"]\n    NeY=person[\"Neck_y\"]\n    RSX=person[\"RShoulder_x\"]\n    RSY=person[\"RShoulder_y\"]\n    LSX=person[\"LShoulder_x\"]\n    LSY=person[\"LShoulder_y\"]\n    distShoulders=math.sqrt(math.pow(RSX - LSX, 2) + math.pow(RSY - LSY, 2))\n    distanceNN=math.sqrt(math.pow(NeX - NoX, 2) + math.pow(NeY - NoY, 2))\n    distanceX=NoX-NeX\n    if distShoulders>0:\n        ratio=distanceX/(distShoulders/2)\n        if ratio<-1:\n            ratio=-1\n        if ratio>1:\n            ratio=1\n        return math.degrees(math.asin(ratio))\n    else:\n        return None",
      "execution_count": 47,
      "outputs": []
    },
    {
      "metadata": {
        "trusted": true
      },
      "cell_type": "code",
      "source": "skeletons[\"Gaze\"]=skeletons.apply(lambda x: gaze(x),axis=1)\nskeletons.head()",
      "execution_count": 48,
      "outputs": [
        {
          "output_type": "execute_result",
          "execution_count": 48,
          "data": {
            "text/html": "<div>\n<style scoped>\n    .dataframe tbody tr th:only-of-type {\n        vertical-align: middle;\n    }\n\n    .dataframe tbody tr th {\n        vertical-align: top;\n    }\n\n    .dataframe thead th {\n        text-align: right;\n    }\n</style>\n<table border=\"1\" class=\"dataframe\">\n  <thead>\n    <tr style=\"text-align: right;\">\n      <th></th>\n      <th>frame</th>\n      <th>Nose_x</th>\n      <th>Nose_y</th>\n      <th>Nose_c</th>\n      <th>Neck_x</th>\n      <th>Neck_y</th>\n      <th>Neck_c</th>\n      <th>RShoulder_x</th>\n      <th>RShoulder_y</th>\n      <th>RShoulder_c</th>\n      <th>...</th>\n      <th>RSmallToe_x</th>\n      <th>RSmallToe_y</th>\n      <th>RSmallToe_c</th>\n      <th>RHeel_x</th>\n      <th>RHeel_y</th>\n      <th>RHeel_c</th>\n      <th>Person</th>\n      <th>Interesting</th>\n      <th>Angle</th>\n      <th>Gaze</th>\n    </tr>\n  </thead>\n  <tbody>\n    <tr>\n      <th>0</th>\n      <td>1</td>\n      <td>1380.120</td>\n      <td>237.946</td>\n      <td>0.842359</td>\n      <td>1378.950</td>\n      <td>320.470</td>\n      <td>0.628099</td>\n      <td>1324.67</td>\n      <td>321.617</td>\n      <td>0.474629</td>\n      <td>...</td>\n      <td>0.0</td>\n      <td>0.0</td>\n      <td>0.0</td>\n      <td>0.0</td>\n      <td>0.0</td>\n      <td>0.0</td>\n      <td>D</td>\n      <td>True</td>\n      <td>256.548837</td>\n      <td>1.220548</td>\n    </tr>\n    <tr>\n      <th>1</th>\n      <td>1</td>\n      <td>636.008</td>\n      <td>222.131</td>\n      <td>0.818794</td>\n      <td>662.023</td>\n      <td>322.781</td>\n      <td>0.326987</td>\n      <td>573.81</td>\n      <td>328.430</td>\n      <td>0.131443</td>\n      <td>...</td>\n      <td>0.0</td>\n      <td>0.0</td>\n      <td>0.0</td>\n      <td>0.0</td>\n      <td>0.0</td>\n      <td>0.0</td>\n      <td>B</td>\n      <td>True</td>\n      <td>123.167070</td>\n      <td>-17.614787</td>\n    </tr>\n    <tr>\n      <th>2</th>\n      <td>1</td>\n      <td>1658.230</td>\n      <td>240.215</td>\n      <td>0.607570</td>\n      <td>1657.120</td>\n      <td>288.842</td>\n      <td>0.491983</td>\n      <td>1602.81</td>\n      <td>291.126</td>\n      <td>0.446046</td>\n      <td>...</td>\n      <td>0.0</td>\n      <td>0.0</td>\n      <td>0.0</td>\n      <td>0.0</td>\n      <td>0.0</td>\n      <td>0.0</td>\n      <td>E</td>\n      <td>True</td>\n      <td>308.301395</td>\n      <td>1.208299</td>\n    </tr>\n    <tr>\n      <th>3</th>\n      <td>2</td>\n      <td>1380.120</td>\n      <td>237.972</td>\n      <td>0.868445</td>\n      <td>1377.800</td>\n      <td>321.625</td>\n      <td>0.675298</td>\n      <td>1324.65</td>\n      <td>321.663</td>\n      <td>0.548460</td>\n      <td>...</td>\n      <td>0.0</td>\n      <td>0.0</td>\n      <td>0.0</td>\n      <td>0.0</td>\n      <td>0.0</td>\n      <td>0.0</td>\n      <td>D</td>\n      <td>True</td>\n      <td>256.334884</td>\n      <td>2.448429</td>\n    </tr>\n    <tr>\n      <th>4</th>\n      <td>2</td>\n      <td>1098.490</td>\n      <td>249.242</td>\n      <td>0.841802</td>\n      <td>1134.670</td>\n      <td>320.484</td>\n      <td>0.661226</td>\n      <td>1073.62</td>\n      <td>325.023</td>\n      <td>0.497669</td>\n      <td>...</td>\n      <td>0.0</td>\n      <td>0.0</td>\n      <td>0.0</td>\n      <td>0.0</td>\n      <td>0.0</td>\n      <td>0.0</td>\n      <td>C</td>\n      <td>True</td>\n      <td>211.101395</td>\n      <td>-36.121693</td>\n    </tr>\n  </tbody>\n</table>\n<p>5 rows × 80 columns</p>\n</div>",
            "text/plain": "   frame    Nose_x   Nose_y    Nose_c    Neck_x   Neck_y    Neck_c  \\\n0      1  1380.120  237.946  0.842359  1378.950  320.470  0.628099   \n1      1   636.008  222.131  0.818794   662.023  322.781  0.326987   \n2      1  1658.230  240.215  0.607570  1657.120  288.842  0.491983   \n3      2  1380.120  237.972  0.868445  1377.800  321.625  0.675298   \n4      2  1098.490  249.242  0.841802  1134.670  320.484  0.661226   \n\n   RShoulder_x  RShoulder_y  RShoulder_c    ...      RSmallToe_x  RSmallToe_y  \\\n0      1324.67      321.617     0.474629    ...              0.0          0.0   \n1       573.81      328.430     0.131443    ...              0.0          0.0   \n2      1602.81      291.126     0.446046    ...              0.0          0.0   \n3      1324.65      321.663     0.548460    ...              0.0          0.0   \n4      1073.62      325.023     0.497669    ...              0.0          0.0   \n\n   RSmallToe_c  RHeel_x  RHeel_y  RHeel_c  Person  Interesting       Angle  \\\n0          0.0      0.0      0.0      0.0       D         True  256.548837   \n1          0.0      0.0      0.0      0.0       B         True  123.167070   \n2          0.0      0.0      0.0      0.0       E         True  308.301395   \n3          0.0      0.0      0.0      0.0       D         True  256.334884   \n4          0.0      0.0      0.0      0.0       C         True  211.101395   \n\n        Gaze  \n0   1.220548  \n1 -17.614787  \n2   1.208299  \n3   2.448429  \n4 -36.121693  \n\n[5 rows x 80 columns]"
          },
          "metadata": {}
        }
      ]
    },
    {
      "metadata": {},
      "cell_type": "markdown",
      "source": "## Person that a person is looking"
    },
    {
      "metadata": {
        "trusted": true
      },
      "cell_type": "code",
      "source": "skeletons[\"LookingAt\"]=(skeletons[\"Angle\"]+skeletons[\"Gaze\"]+180) % 360\nskeletons.head()",
      "execution_count": 49,
      "outputs": [
        {
          "output_type": "execute_result",
          "execution_count": 49,
          "data": {
            "text/html": "<div>\n<style scoped>\n    .dataframe tbody tr th:only-of-type {\n        vertical-align: middle;\n    }\n\n    .dataframe tbody tr th {\n        vertical-align: top;\n    }\n\n    .dataframe thead th {\n        text-align: right;\n    }\n</style>\n<table border=\"1\" class=\"dataframe\">\n  <thead>\n    <tr style=\"text-align: right;\">\n      <th></th>\n      <th>frame</th>\n      <th>Nose_x</th>\n      <th>Nose_y</th>\n      <th>Nose_c</th>\n      <th>Neck_x</th>\n      <th>Neck_y</th>\n      <th>Neck_c</th>\n      <th>RShoulder_x</th>\n      <th>RShoulder_y</th>\n      <th>RShoulder_c</th>\n      <th>...</th>\n      <th>RSmallToe_y</th>\n      <th>RSmallToe_c</th>\n      <th>RHeel_x</th>\n      <th>RHeel_y</th>\n      <th>RHeel_c</th>\n      <th>Person</th>\n      <th>Interesting</th>\n      <th>Angle</th>\n      <th>Gaze</th>\n      <th>LookingAt</th>\n    </tr>\n  </thead>\n  <tbody>\n    <tr>\n      <th>0</th>\n      <td>1</td>\n      <td>1380.120</td>\n      <td>237.946</td>\n      <td>0.842359</td>\n      <td>1378.950</td>\n      <td>320.470</td>\n      <td>0.628099</td>\n      <td>1324.67</td>\n      <td>321.617</td>\n      <td>0.474629</td>\n      <td>...</td>\n      <td>0.0</td>\n      <td>0.0</td>\n      <td>0.0</td>\n      <td>0.0</td>\n      <td>0.0</td>\n      <td>D</td>\n      <td>True</td>\n      <td>256.548837</td>\n      <td>1.220548</td>\n      <td>77.769385</td>\n    </tr>\n    <tr>\n      <th>1</th>\n      <td>1</td>\n      <td>636.008</td>\n      <td>222.131</td>\n      <td>0.818794</td>\n      <td>662.023</td>\n      <td>322.781</td>\n      <td>0.326987</td>\n      <td>573.81</td>\n      <td>328.430</td>\n      <td>0.131443</td>\n      <td>...</td>\n      <td>0.0</td>\n      <td>0.0</td>\n      <td>0.0</td>\n      <td>0.0</td>\n      <td>0.0</td>\n      <td>B</td>\n      <td>True</td>\n      <td>123.167070</td>\n      <td>-17.614787</td>\n      <td>285.552283</td>\n    </tr>\n    <tr>\n      <th>2</th>\n      <td>1</td>\n      <td>1658.230</td>\n      <td>240.215</td>\n      <td>0.607570</td>\n      <td>1657.120</td>\n      <td>288.842</td>\n      <td>0.491983</td>\n      <td>1602.81</td>\n      <td>291.126</td>\n      <td>0.446046</td>\n      <td>...</td>\n      <td>0.0</td>\n      <td>0.0</td>\n      <td>0.0</td>\n      <td>0.0</td>\n      <td>0.0</td>\n      <td>E</td>\n      <td>True</td>\n      <td>308.301395</td>\n      <td>1.208299</td>\n      <td>129.509695</td>\n    </tr>\n    <tr>\n      <th>3</th>\n      <td>2</td>\n      <td>1380.120</td>\n      <td>237.972</td>\n      <td>0.868445</td>\n      <td>1377.800</td>\n      <td>321.625</td>\n      <td>0.675298</td>\n      <td>1324.65</td>\n      <td>321.663</td>\n      <td>0.548460</td>\n      <td>...</td>\n      <td>0.0</td>\n      <td>0.0</td>\n      <td>0.0</td>\n      <td>0.0</td>\n      <td>0.0</td>\n      <td>D</td>\n      <td>True</td>\n      <td>256.334884</td>\n      <td>2.448429</td>\n      <td>78.783313</td>\n    </tr>\n    <tr>\n      <th>4</th>\n      <td>2</td>\n      <td>1098.490</td>\n      <td>249.242</td>\n      <td>0.841802</td>\n      <td>1134.670</td>\n      <td>320.484</td>\n      <td>0.661226</td>\n      <td>1073.62</td>\n      <td>325.023</td>\n      <td>0.497669</td>\n      <td>...</td>\n      <td>0.0</td>\n      <td>0.0</td>\n      <td>0.0</td>\n      <td>0.0</td>\n      <td>0.0</td>\n      <td>C</td>\n      <td>True</td>\n      <td>211.101395</td>\n      <td>-36.121693</td>\n      <td>354.979702</td>\n    </tr>\n  </tbody>\n</table>\n<p>5 rows × 81 columns</p>\n</div>",
            "text/plain": "   frame    Nose_x   Nose_y    Nose_c    Neck_x   Neck_y    Neck_c  \\\n0      1  1380.120  237.946  0.842359  1378.950  320.470  0.628099   \n1      1   636.008  222.131  0.818794   662.023  322.781  0.326987   \n2      1  1658.230  240.215  0.607570  1657.120  288.842  0.491983   \n3      2  1380.120  237.972  0.868445  1377.800  321.625  0.675298   \n4      2  1098.490  249.242  0.841802  1134.670  320.484  0.661226   \n\n   RShoulder_x  RShoulder_y  RShoulder_c     ...      RSmallToe_y  \\\n0      1324.67      321.617     0.474629     ...              0.0   \n1       573.81      328.430     0.131443     ...              0.0   \n2      1602.81      291.126     0.446046     ...              0.0   \n3      1324.65      321.663     0.548460     ...              0.0   \n4      1073.62      325.023     0.497669     ...              0.0   \n\n   RSmallToe_c  RHeel_x  RHeel_y  RHeel_c  Person  Interesting       Angle  \\\n0          0.0      0.0      0.0      0.0       D         True  256.548837   \n1          0.0      0.0      0.0      0.0       B         True  123.167070   \n2          0.0      0.0      0.0      0.0       E         True  308.301395   \n3          0.0      0.0      0.0      0.0       D         True  256.334884   \n4          0.0      0.0      0.0      0.0       C         True  211.101395   \n\n        Gaze   LookingAt  \n0   1.220548   77.769385  \n1 -17.614787  285.552283  \n2   1.208299  129.509695  \n3   2.448429   78.783313  \n4 -36.121693  354.979702  \n\n[5 rows x 81 columns]"
          },
          "metadata": {}
        }
      ]
    },
    {
      "metadata": {
        "trusted": true
      },
      "cell_type": "code",
      "source": "import statistics\nprint(statistics.mean(skeletons[skeletons[\"Person\"]==\"E\"][\"Angle\"]))",
      "execution_count": 64,
      "outputs": [
        {
          "output_type": "stream",
          "text": "304.0404416801875\n",
          "name": "stdout"
        }
      ]
    },
    {
      "metadata": {
        "trusted": true
      },
      "cell_type": "code",
      "source": "def degreesToPerson(degrees):\n    if degrees<50:\n        return \"A\"\n    if degrees>49 and degrees<160:\n        return \"B\"\n    if degrees>159 and degrees<230:\n        return \"C\"\n    if degrees>229 and degrees<280:\n        return \"D\"\n    if degrees>279:\n        return \"E\"",
      "execution_count": 67,
      "outputs": []
    },
    {
      "metadata": {
        "trusted": true
      },
      "cell_type": "code",
      "source": "skeletons[\"LookingAtPerson\"]=skeletons.apply(lambda x: degreesToPerson(x['LookingAt']),axis=1)\nskeletons.head()",
      "execution_count": 68,
      "outputs": [
        {
          "output_type": "execute_result",
          "execution_count": 68,
          "data": {
            "text/html": "<div>\n<style scoped>\n    .dataframe tbody tr th:only-of-type {\n        vertical-align: middle;\n    }\n\n    .dataframe tbody tr th {\n        vertical-align: top;\n    }\n\n    .dataframe thead th {\n        text-align: right;\n    }\n</style>\n<table border=\"1\" class=\"dataframe\">\n  <thead>\n    <tr style=\"text-align: right;\">\n      <th></th>\n      <th>frame</th>\n      <th>Nose_x</th>\n      <th>Nose_y</th>\n      <th>Nose_c</th>\n      <th>Neck_x</th>\n      <th>Neck_y</th>\n      <th>Neck_c</th>\n      <th>RShoulder_x</th>\n      <th>RShoulder_y</th>\n      <th>RShoulder_c</th>\n      <th>...</th>\n      <th>RSmallToe_c</th>\n      <th>RHeel_x</th>\n      <th>RHeel_y</th>\n      <th>RHeel_c</th>\n      <th>Person</th>\n      <th>Interesting</th>\n      <th>Angle</th>\n      <th>Gaze</th>\n      <th>LookingAt</th>\n      <th>LookingAtPerson</th>\n    </tr>\n  </thead>\n  <tbody>\n    <tr>\n      <th>0</th>\n      <td>1</td>\n      <td>1380.120</td>\n      <td>237.946</td>\n      <td>0.842359</td>\n      <td>1378.950</td>\n      <td>320.470</td>\n      <td>0.628099</td>\n      <td>1324.67</td>\n      <td>321.617</td>\n      <td>0.474629</td>\n      <td>...</td>\n      <td>0.0</td>\n      <td>0.0</td>\n      <td>0.0</td>\n      <td>0.0</td>\n      <td>D</td>\n      <td>True</td>\n      <td>256.548837</td>\n      <td>1.220548</td>\n      <td>77.769385</td>\n      <td>B</td>\n    </tr>\n    <tr>\n      <th>1</th>\n      <td>1</td>\n      <td>636.008</td>\n      <td>222.131</td>\n      <td>0.818794</td>\n      <td>662.023</td>\n      <td>322.781</td>\n      <td>0.326987</td>\n      <td>573.81</td>\n      <td>328.430</td>\n      <td>0.131443</td>\n      <td>...</td>\n      <td>0.0</td>\n      <td>0.0</td>\n      <td>0.0</td>\n      <td>0.0</td>\n      <td>B</td>\n      <td>True</td>\n      <td>123.167070</td>\n      <td>-17.614787</td>\n      <td>285.552283</td>\n      <td>E</td>\n    </tr>\n    <tr>\n      <th>2</th>\n      <td>1</td>\n      <td>1658.230</td>\n      <td>240.215</td>\n      <td>0.607570</td>\n      <td>1657.120</td>\n      <td>288.842</td>\n      <td>0.491983</td>\n      <td>1602.81</td>\n      <td>291.126</td>\n      <td>0.446046</td>\n      <td>...</td>\n      <td>0.0</td>\n      <td>0.0</td>\n      <td>0.0</td>\n      <td>0.0</td>\n      <td>E</td>\n      <td>True</td>\n      <td>308.301395</td>\n      <td>1.208299</td>\n      <td>129.509695</td>\n      <td>B</td>\n    </tr>\n    <tr>\n      <th>3</th>\n      <td>2</td>\n      <td>1380.120</td>\n      <td>237.972</td>\n      <td>0.868445</td>\n      <td>1377.800</td>\n      <td>321.625</td>\n      <td>0.675298</td>\n      <td>1324.65</td>\n      <td>321.663</td>\n      <td>0.548460</td>\n      <td>...</td>\n      <td>0.0</td>\n      <td>0.0</td>\n      <td>0.0</td>\n      <td>0.0</td>\n      <td>D</td>\n      <td>True</td>\n      <td>256.334884</td>\n      <td>2.448429</td>\n      <td>78.783313</td>\n      <td>B</td>\n    </tr>\n    <tr>\n      <th>4</th>\n      <td>2</td>\n      <td>1098.490</td>\n      <td>249.242</td>\n      <td>0.841802</td>\n      <td>1134.670</td>\n      <td>320.484</td>\n      <td>0.661226</td>\n      <td>1073.62</td>\n      <td>325.023</td>\n      <td>0.497669</td>\n      <td>...</td>\n      <td>0.0</td>\n      <td>0.0</td>\n      <td>0.0</td>\n      <td>0.0</td>\n      <td>C</td>\n      <td>True</td>\n      <td>211.101395</td>\n      <td>-36.121693</td>\n      <td>354.979702</td>\n      <td>E</td>\n    </tr>\n  </tbody>\n</table>\n<p>5 rows × 82 columns</p>\n</div>",
            "text/plain": "   frame    Nose_x   Nose_y    Nose_c    Neck_x   Neck_y    Neck_c  \\\n0      1  1380.120  237.946  0.842359  1378.950  320.470  0.628099   \n1      1   636.008  222.131  0.818794   662.023  322.781  0.326987   \n2      1  1658.230  240.215  0.607570  1657.120  288.842  0.491983   \n3      2  1380.120  237.972  0.868445  1377.800  321.625  0.675298   \n4      2  1098.490  249.242  0.841802  1134.670  320.484  0.661226   \n\n   RShoulder_x  RShoulder_y  RShoulder_c       ...         RSmallToe_c  \\\n0      1324.67      321.617     0.474629       ...                 0.0   \n1       573.81      328.430     0.131443       ...                 0.0   \n2      1602.81      291.126     0.446046       ...                 0.0   \n3      1324.65      321.663     0.548460       ...                 0.0   \n4      1073.62      325.023     0.497669       ...                 0.0   \n\n   RHeel_x  RHeel_y  RHeel_c  Person  Interesting       Angle       Gaze  \\\n0      0.0      0.0      0.0       D         True  256.548837   1.220548   \n1      0.0      0.0      0.0       B         True  123.167070 -17.614787   \n2      0.0      0.0      0.0       E         True  308.301395   1.208299   \n3      0.0      0.0      0.0       D         True  256.334884   2.448429   \n4      0.0      0.0      0.0       C         True  211.101395 -36.121693   \n\n    LookingAt  LookingAtPerson  \n0   77.769385                B  \n1  285.552283                E  \n2  129.509695                B  \n3   78.783313                B  \n4  354.979702                E  \n\n[5 rows x 82 columns]"
          },
          "metadata": {}
        }
      ]
    },
    {
      "metadata": {
        "trusted": true
      },
      "cell_type": "code",
      "source": "pd.crosstab(skeletons[\"Person\"],skeletons[\"LookingAtPerson\"])",
      "execution_count": 71,
      "outputs": [
        {
          "output_type": "execute_result",
          "execution_count": 71,
          "data": {
            "text/html": "<div>\n<style scoped>\n    .dataframe tbody tr th:only-of-type {\n        vertical-align: middle;\n    }\n\n    .dataframe tbody tr th {\n        vertical-align: top;\n    }\n\n    .dataframe thead th {\n        text-align: right;\n    }\n</style>\n<table border=\"1\" class=\"dataframe\">\n  <thead>\n    <tr style=\"text-align: right;\">\n      <th>LookingAtPerson</th>\n      <th>A</th>\n      <th>B</th>\n      <th>C</th>\n      <th>D</th>\n      <th>E</th>\n    </tr>\n    <tr>\n      <th>Person</th>\n      <th></th>\n      <th></th>\n      <th></th>\n      <th></th>\n      <th></th>\n    </tr>\n  </thead>\n  <tbody>\n    <tr>\n      <th>A</th>\n      <td>0</td>\n      <td>60</td>\n      <td>887</td>\n      <td>29</td>\n      <td>6</td>\n    </tr>\n    <tr>\n      <th>B</th>\n      <td>1</td>\n      <td>0</td>\n      <td>117</td>\n      <td>131</td>\n      <td>744</td>\n    </tr>\n    <tr>\n      <th>C</th>\n      <td>394</td>\n      <td>7</td>\n      <td>0</td>\n      <td>0</td>\n      <td>598</td>\n    </tr>\n    <tr>\n      <th>D</th>\n      <td>22</td>\n      <td>980</td>\n      <td>0</td>\n      <td>0</td>\n      <td>0</td>\n    </tr>\n    <tr>\n      <th>E</th>\n      <td>0</td>\n      <td>910</td>\n      <td>107</td>\n      <td>15</td>\n      <td>0</td>\n    </tr>\n  </tbody>\n</table>\n</div>",
            "text/plain": "LookingAtPerson    A    B    C    D    E\nPerson                                  \nA                  0   60  887   29    6\nB                  1    0  117  131  744\nC                394    7    0    0  598\nD                 22  980    0    0    0\nE                  0  910  107   15    0"
          },
          "metadata": {}
        }
      ]
    },
    {
      "metadata": {},
      "cell_type": "markdown",
      "source": "# Words per person"
    },
    {
      "metadata": {
        "trusted": true
      },
      "cell_type": "code",
      "source": "def timeToAudioFrame(time):\n    frame=round(time*5)\n    return frame",
      "execution_count": 72,
      "outputs": []
    },
    {
      "metadata": {
        "trusted": true
      },
      "cell_type": "code",
      "source": "words[\"startFrame\"]=words.apply(lambda x: timeToAudioFrame(x[\"start\"]),axis=1)\nwords[\"endFrame\"]=words.apply(lambda x: timeToAudioFrame(x[\"end\"]),axis=1)\nwords.head()",
      "execution_count": 75,
      "outputs": [
        {
          "output_type": "execute_result",
          "execution_count": 75,
          "data": {
            "text/html": "<div>\n<style scoped>\n    .dataframe tbody tr th:only-of-type {\n        vertical-align: middle;\n    }\n\n    .dataframe tbody tr th {\n        vertical-align: top;\n    }\n\n    .dataframe thead th {\n        text-align: right;\n    }\n</style>\n<table border=\"1\" class=\"dataframe\">\n  <thead>\n    <tr style=\"text-align: right;\">\n      <th></th>\n      <th>type</th>\n      <th>value</th>\n      <th>start</th>\n      <th>end</th>\n      <th>confidence</th>\n      <th>startFrame</th>\n      <th>endFrame</th>\n    </tr>\n  </thead>\n  <tbody>\n    <tr>\n      <th>0</th>\n      <td>text</td>\n      <td>Physical</td>\n      <td>0.24</td>\n      <td>0.72</td>\n      <td>1.00</td>\n      <td>1</td>\n      <td>4</td>\n    </tr>\n    <tr>\n      <th>1</th>\n      <td>punct</td>\n      <td></td>\n      <td>0.00</td>\n      <td>0.00</td>\n      <td>0.00</td>\n      <td>0</td>\n      <td>0</td>\n    </tr>\n    <tr>\n      <th>2</th>\n      <td>text</td>\n      <td>assessments</td>\n      <td>0.72</td>\n      <td>1.32</td>\n      <td>0.95</td>\n      <td>4</td>\n      <td>7</td>\n    </tr>\n    <tr>\n      <th>3</th>\n      <td>punct</td>\n      <td>.</td>\n      <td>0.00</td>\n      <td>0.00</td>\n      <td>0.00</td>\n      <td>0</td>\n      <td>0</td>\n    </tr>\n    <tr>\n      <th>4</th>\n      <td>punct</td>\n      <td></td>\n      <td>0.00</td>\n      <td>0.00</td>\n      <td>0.00</td>\n      <td>0</td>\n      <td>0</td>\n    </tr>\n  </tbody>\n</table>\n</div>",
            "text/plain": "    type        value  start   end  confidence  startFrame  endFrame\n0   text     Physical   0.24  0.72        1.00           1         4\n1  punct                0.00  0.00        0.00           0         0\n2   text  assessments   0.72  1.32        0.95           4         7\n3  punct            .   0.00  0.00        0.00           0         0\n4  punct                0.00  0.00        0.00           0         0"
          },
          "metadata": {}
        }
      ]
    },
    {
      "metadata": {
        "trusted": true
      },
      "cell_type": "code",
      "source": "import statistics\ndef framesToAngle(start,end):\n    angles=doa[start:end+1]\n    addition=0\n    count=0\n    for angle in angles[\"doa\"]:\n        count=count+1\n        doaValue= angle.replace('[','').replace(']','').replace('.','')\n        doaValue=int(doaValue)\n        addition=addition+doaValue\n    return addition/count",
      "execution_count": 110,
      "outputs": []
    },
    {
      "metadata": {
        "trusted": true
      },
      "cell_type": "code",
      "source": "words[\"Person\"]=words.apply(lambda x: degreesToPerson(framesToAngle(x[\"startFrame\"],x[\"endFrame\"])),axis=1)\nwords.head(20)",
      "execution_count": 120,
      "outputs": [
        {
          "output_type": "execute_result",
          "execution_count": 120,
          "data": {
            "text/html": "<div>\n<style scoped>\n    .dataframe tbody tr th:only-of-type {\n        vertical-align: middle;\n    }\n\n    .dataframe tbody tr th {\n        vertical-align: top;\n    }\n\n    .dataframe thead th {\n        text-align: right;\n    }\n</style>\n<table border=\"1\" class=\"dataframe\">\n  <thead>\n    <tr style=\"text-align: right;\">\n      <th></th>\n      <th>type</th>\n      <th>value</th>\n      <th>start</th>\n      <th>end</th>\n      <th>confidence</th>\n      <th>startFrame</th>\n      <th>endFrame</th>\n      <th>Person</th>\n    </tr>\n  </thead>\n  <tbody>\n    <tr>\n      <th>0</th>\n      <td>text</td>\n      <td>Physical</td>\n      <td>0.24</td>\n      <td>0.72</td>\n      <td>1.00</td>\n      <td>1</td>\n      <td>4</td>\n      <td>B</td>\n    </tr>\n    <tr>\n      <th>1</th>\n      <td>punct</td>\n      <td></td>\n      <td>0.00</td>\n      <td>0.00</td>\n      <td>0.00</td>\n      <td>0</td>\n      <td>0</td>\n      <td>B</td>\n    </tr>\n    <tr>\n      <th>2</th>\n      <td>text</td>\n      <td>assessments</td>\n      <td>0.72</td>\n      <td>1.32</td>\n      <td>0.95</td>\n      <td>4</td>\n      <td>7</td>\n      <td>C</td>\n    </tr>\n    <tr>\n      <th>3</th>\n      <td>punct</td>\n      <td>.</td>\n      <td>0.00</td>\n      <td>0.00</td>\n      <td>0.00</td>\n      <td>0</td>\n      <td>0</td>\n      <td>B</td>\n    </tr>\n    <tr>\n      <th>4</th>\n      <td>punct</td>\n      <td></td>\n      <td>0.00</td>\n      <td>0.00</td>\n      <td>0.00</td>\n      <td>0</td>\n      <td>0</td>\n      <td>B</td>\n    </tr>\n    <tr>\n      <th>5</th>\n      <td>text</td>\n      <td>Okay</td>\n      <td>2.34</td>\n      <td>2.73</td>\n      <td>0.99</td>\n      <td>12</td>\n      <td>14</td>\n      <td>B</td>\n    </tr>\n    <tr>\n      <th>6</th>\n      <td>punct</td>\n      <td>.</td>\n      <td>0.00</td>\n      <td>0.00</td>\n      <td>0.00</td>\n      <td>0</td>\n      <td>0</td>\n      <td>B</td>\n    </tr>\n    <tr>\n      <th>7</th>\n      <td>punct</td>\n      <td></td>\n      <td>0.00</td>\n      <td>0.00</td>\n      <td>0.00</td>\n      <td>0</td>\n      <td>0</td>\n      <td>B</td>\n    </tr>\n    <tr>\n      <th>8</th>\n      <td>text</td>\n      <td>So</td>\n      <td>2.82</td>\n      <td>2.94</td>\n      <td>1.00</td>\n      <td>14</td>\n      <td>15</td>\n      <td>B</td>\n    </tr>\n    <tr>\n      <th>9</th>\n      <td>punct</td>\n      <td></td>\n      <td>0.00</td>\n      <td>0.00</td>\n      <td>0.00</td>\n      <td>0</td>\n      <td>0</td>\n      <td>B</td>\n    </tr>\n    <tr>\n      <th>10</th>\n      <td>text</td>\n      <td>what</td>\n      <td>2.94</td>\n      <td>3.06</td>\n      <td>0.89</td>\n      <td>15</td>\n      <td>15</td>\n      <td>B</td>\n    </tr>\n    <tr>\n      <th>11</th>\n      <td>punct</td>\n      <td></td>\n      <td>0.00</td>\n      <td>0.00</td>\n      <td>0.00</td>\n      <td>0</td>\n      <td>0</td>\n      <td>B</td>\n    </tr>\n    <tr>\n      <th>12</th>\n      <td>text</td>\n      <td>did</td>\n      <td>3.06</td>\n      <td>3.15</td>\n      <td>0.98</td>\n      <td>15</td>\n      <td>16</td>\n      <td>B</td>\n    </tr>\n    <tr>\n      <th>13</th>\n      <td>punct</td>\n      <td></td>\n      <td>0.00</td>\n      <td>0.00</td>\n      <td>0.00</td>\n      <td>0</td>\n      <td>0</td>\n      <td>B</td>\n    </tr>\n    <tr>\n      <th>14</th>\n      <td>text</td>\n      <td>we</td>\n      <td>3.15</td>\n      <td>3.24</td>\n      <td>1.00</td>\n      <td>16</td>\n      <td>16</td>\n      <td>B</td>\n    </tr>\n    <tr>\n      <th>15</th>\n      <td>punct</td>\n      <td></td>\n      <td>0.00</td>\n      <td>0.00</td>\n      <td>0.00</td>\n      <td>0</td>\n      <td>0</td>\n      <td>B</td>\n    </tr>\n    <tr>\n      <th>16</th>\n      <td>text</td>\n      <td>say</td>\n      <td>3.24</td>\n      <td>3.42</td>\n      <td>1.00</td>\n      <td>16</td>\n      <td>17</td>\n      <td>B</td>\n    </tr>\n    <tr>\n      <th>17</th>\n      <td>punct</td>\n      <td>?</td>\n      <td>0.00</td>\n      <td>0.00</td>\n      <td>0.00</td>\n      <td>0</td>\n      <td>0</td>\n      <td>B</td>\n    </tr>\n    <tr>\n      <th>18</th>\n      <td>punct</td>\n      <td></td>\n      <td>0.00</td>\n      <td>0.00</td>\n      <td>0.00</td>\n      <td>0</td>\n      <td>0</td>\n      <td>B</td>\n    </tr>\n    <tr>\n      <th>19</th>\n      <td>text</td>\n      <td>High</td>\n      <td>3.42</td>\n      <td>3.60</td>\n      <td>1.00</td>\n      <td>17</td>\n      <td>18</td>\n      <td>B</td>\n    </tr>\n  </tbody>\n</table>\n</div>",
            "text/plain": "     type        value  start   end  confidence  startFrame  endFrame Person\n0    text     Physical   0.24  0.72        1.00           1         4      B\n1   punct                0.00  0.00        0.00           0         0      B\n2    text  assessments   0.72  1.32        0.95           4         7      C\n3   punct            .   0.00  0.00        0.00           0         0      B\n4   punct                0.00  0.00        0.00           0         0      B\n5    text         Okay   2.34  2.73        0.99          12        14      B\n6   punct            .   0.00  0.00        0.00           0         0      B\n7   punct                0.00  0.00        0.00           0         0      B\n8    text           So   2.82  2.94        1.00          14        15      B\n9   punct                0.00  0.00        0.00           0         0      B\n10   text         what   2.94  3.06        0.89          15        15      B\n11  punct                0.00  0.00        0.00           0         0      B\n12   text          did   3.06  3.15        0.98          15        16      B\n13  punct                0.00  0.00        0.00           0         0      B\n14   text           we   3.15  3.24        1.00          16        16      B\n15  punct                0.00  0.00        0.00           0         0      B\n16   text          say   3.24  3.42        1.00          16        17      B\n17  punct            ?   0.00  0.00        0.00           0         0      B\n18  punct                0.00  0.00        0.00           0         0      B\n19   text         High   3.42  3.60        1.00          17        18      B"
          },
          "metadata": {}
        }
      ]
    },
    {
      "metadata": {},
      "cell_type": "markdown",
      "source": "## Sentences per Person"
    },
    {
      "metadata": {
        "trusted": true
      },
      "cell_type": "code",
      "source": "sentence=\"\"\npersons=[]\nfor index, uterance in words.iterrows():\n    if uterance[\"type\"]==\"text\":\n        sentence=sentence+uterance[\"value\"]+\" \"\n        persons.append(uterance[\"Person\"])\n    else:\n        if uterance[\"value\"]==\".\" or uterance[\"value\"]==\"?\":\n            sentence=sentence+uterance[\"value\"]\n            person=max(set(persons), key=persons.count)\n            print(\"Person: \",person,\"said\",sentence)\n            sentence=\"\"\n            persons=[]\n    ",
      "execution_count": 125,
      "outputs": [
        {
          "output_type": "stream",
          "text": "Person:  B said Physical assessments .\nPerson:  B said Okay .\nPerson:  B said So what did we say ?\nPerson:  B said High school teachers ?\nPerson:  B said Yeah it sounded like high school cause it was like Oh there's some college thing when there wasn't it college readiness or something .\nPerson:  D said But that's still K-12 K-12 probably high school kind of thing .\nPerson:  C said Great .\nPerson:  B said Was that all good ?\nPerson:  B said I said credits plus all the basic to complicate it was so bad because all the pages were kind of consistent .\nPerson:  B said So you would have a tab and then the it within the time .\nPerson:  E said Yeah .\nPerson:  D said But it would be very difficult to find something if you want to do that .\nPerson:  D said How would you actually know where that information was in those times ?\nPerson:  B said I thought it was very fair .\nPerson:  C said Yeah .\nPerson:  C said And then also there's like you can remove columns or add columns but does the teacher know that ?\nPerson:  B said So I think what it was would've been interesting to missing is like interaction .\nPerson:  B said So it's like between absences and grades right ?\nPerson:  B said Yeah .\nPerson:  B said Yeah .\nPerson:  D said It's basically displaying more data except for those red and green buttons .\nPerson:  B said Summaries for the class .\nPerson:  B said Yeah .\nPerson:  C said I can't see any summary .\nPerson:  B said I think it's too detailed actually a page .\nPerson:  C said But again they were getting lost in all the information that was yeah I think they mentioned like there is a course summary and then like a look at a summary of your school too but that wasn't the focus of the video .\nPerson:  D said What I was thinking about like if I'm interesting in my course maybe I can see somebody a fault .\nPerson:  D said It was still student place .\nPerson:  D said I mean even the summary was just filtering students that were endorsed in my course .\nPerson:  D said what if I wanted to do this to God ?\nPerson:  B said I mean it probably helps you see when someone's really in trouble right ?\nPerson:  C said You could really see if someone's like on the way down I asked but even like the UI of like seeing the red versus the green it's like hard and it's binary and it's very evaluative .\nPerson:  B said It doesn't tell you much actually .\nPerson:  C said And you'd have to use the youth search function for anything .\nPerson:  C said Before doing anything .\nPerson:  D said We'll need to use the search bar for every student you need to go and search .\nPerson:  C said Oh there was like an option that you could put them on a watch list .\nPerson:  C said I guess so maybe you watch all the red people also said it was collaborative which I feel like across what was collaborative .\nPerson:  E said I don't know if that's a good or battery cause I make sense really overwhelming .\nPerson:  B said So schools they don't only have teachers right ?\nPerson:  B said There are teachers instructional coaches principals and etc .\nPerson:  B said Can I make counselors like subject leaders ?\nPerson:  B said So we're not talking only about teachers .\nPerson:  B said So if you have multiple people logging in and collaborating about someone that's that's the way to go .\nPerson:  B said So I think that's like very good managing collaboration .\nPerson:  E said But did you actually see you know it was just mentioned .\nPerson:  D said Yes you can see the same thing .\nPerson:  C said Yeah .\nPerson:  C said But can they actually collaborate on it ?\nPerson:  E said I wonder if like the video is meant to give you an overview and necessarily go into so much detail into every sales video board .\nPerson:  E said Yeah I feel like I don't know .\nPerson:  E said I don't know .\nPerson:  B said Is it in her phone ?\nPerson:  B said So it can be harmful or cause it's very evaluative in a way .\nPerson:  B said It doesn't allow you to understand reasons for what things are happening .\nPerson:  B said It just separates in a very binary way .\nPerson:  C said Good or bad successful .\nPerson:  B said One successful green or red arrow up arrow down but it doesn't give you many ways of like identifying why things are happening and the trends and et cetera .\nPerson:  C said So I would be more interested in understanding a wise use of bias .\nPerson:  B said Definitely induced bias .\nPerson:  C said Yes .\nPerson:  B said Yeah .\nPerson:  D said Also there's one that the students do identify right ?\nPerson:  B said Thinking about that too for their teachers it's like high school so you know teachers and students are closer .\nPerson:  D said It's important to have the feature and it's important but at the same time the harmful that's with that you won't forget a face .\nPerson:  C said You can forget the date .\nPerson:  D said You don't usually forget .\nPerson:  B said Also it is based upon the assumption that I know that people are good or bad .\nPerson:  B said If their grades and attendance some are okay but to make sense of a performance of some thing I should be able to work right .\nPerson:  B said If like we're being measured here just by if we did or did not do the tutorial or if he's 100% or 0% that's not much .\nPerson:  B said We were talking today about my failed attempts to do that dashboard and I think my heavier looking at my work he has a better notion of Holly so it's more formative than somebody been .\nPerson:  B said This dashboard is totally somebody if it's grades so how can we take a look at student's work to increase sense-making ?\nPerson:  C said They didn't have any like trajectory of the students .\nPerson:  C said Oh how did they do ?\nPerson:  B said What were they like fourth grade ?\nPerson:  B said That was the course summary that we were missing .\nPerson:  B said Right ?\nPerson:  B said Because if you're like okay everyone in this course is getting a 70 and you've got a 65 that's actually not that bad .\nPerson:  B said But if you're like the distribution was kind of with the original dashboard club year was showing us you see where you are compared to people then you get a better sense of like okay the students actually like very poorly .\nPerson:  C said Yeah no .\nPerson:  C said I was also talking about like scores on individual assignments like during class and well how the like they didn't really address not the trajectory of success over time .\nPerson:  B said Didn't have like a summary .\nPerson:  D said Something was there but it was not as heavy .\nPerson:  C said That's like one of the reasons you can approve that like except just too many numbers there .\nPerson:  B said Right .\nPerson:  B said They didn't really use a lot of data visualizations .\nPerson:  B said Right .\nPerson:  B said It was just the arrows is the only thing .\nPerson:  B said It's more tables then .\nPerson:  C said Right .\nPerson:  C said I think it's a difficult one .\nPerson:  B said Yeah but that's it .\nPerson:  B said That's a good point .\nPerson:  C said It's more like digital report and the dashboard .\nPerson:  B said It has more ports .\nPerson:  D said What it can do that give I mean in any way you can add and remove those columns and that's it .\nPerson:  C said That's it .\nPerson:  C said Like yeah like how does the data get in there ?\nPerson:  C said Right .\nPerson:  C said They didn't talk about like yeah accessibility for the teachers and how to like input data and where it's coming from .\nPerson:  E said Yeah .\nPerson:  D said We're able to take from the perspective of high school play too .\nPerson:  D said What else would they need to do which could feed them to this ?\nPerson:  B said I mean there's so much like going on socially in high school I don't even know how you measure that kind of stuff but like people do a lot of stuff sports and sometimes they're in like very stressful sporting stuff that could impact their studies .\nPerson:  B said And I don't think any of that's in here .\nPerson:  B said And then like the whole like social thing extra credit .\nPerson:  B said Yeah .\nPerson:  B said You're really trying to get like the full picture of what's going on with like someone or below the fold .\n",
          "name": "stdout"
        },
        {
          "output_type": "stream",
          "text": "Person:  B said You have to get the full picture .\nPerson:  C said It's like an extra layer .\nPerson:  C said They'd have to get that from some kind of yeah of course .\nPerson:  E said Feedback I guess really just to analyze it is part of it .\nPerson:  E said And then if you see the students flipping then I feel that's more of an emotional or you know somebody needing to address this to themselves and I don't think that could really be done digital necessarily .\nPerson:  D said So like the first step what I put you to see someone in great .\nPerson:  D said So what would you do ?\nPerson:  C said Two one in red assuming they would go ahead and talk worth they log in to that .\nPerson:  C said It depends on what red news .\nPerson:  C said Yeah .\nPerson:  C said Like you said there's no yellow like no like there's no yellow .\nPerson:  C said It's very fine .\nPerson:  D said Mary are they already failing or is this like a warning and it's all based on previous data .\nPerson:  D said who is an interesting um how could you improve it ?\nPerson:  B said Yeah .\nPerson:  E said Yeah .\nPerson:  B said So last binary just one thing .\nPerson:  B said Visualization visualization and more granularity .\nPerson:  A said Yeah .\nPerson:  B said And more summaries .\nPerson:  B said Cause it's all just like one student and what's going on with that right .\nPerson:  B said a way to include formative assessment for sense making .\nPerson:  B said Like can I see students work and I see an artifact .\nPerson:  B said It's getting something that is not just great .\nPerson:  C said I love those .\nPerson:  D said Some beads if looked up to but some days like 78 so what makes up that ?\nPerson:  C said Yeah yeah yeah .\nPerson:  D said Maybe the division of it's very open ended .\nPerson:  B said Yeah .\nPerson:  B said And I think it needs to be less of a report and more of a dashboard .\nPerson:  C said Also maybe with a large re messages where like if something's going on beyond or under a trash hold what's going to happen ?\nPerson:  B said You should be able to like have more agency and set up some trash words .\nPerson:  C said I think it's also just trying to serve too many stake holders .\nPerson:  C said Like he's got all these like administrative stuff and teachers that may just broken out into like different stakeholders .\nPerson:  D said So do they have different levels ?\nPerson:  D said Do I mean nobody could see .\nPerson:  D said Yeah .\nPerson:  D said I guess if it gives the same dashboard just mentor different people that other people do not see what you mean .\nPerson:  D said Like heavy maybe they don't need to go in there .\nPerson:  D said Yeah .\nPerson:  C said The administrator could be monitoring their teachers success and that could put pressure on like teachers entering data .\nPerson:  C said I would include the very basic function of note-taking because when you see something in you once to like write a very quick summary of Oh what that what does that mean to me ?\nPerson:  C said Because seeing data is okay I'm seeing data in front of you but what if you want to like Oh I think Jonathan here is repeatedly having this .\nPerson:  C said So maybe writing would help you to convey your interpretations .\nPerson:  C said Yeah I think that's like it was just for teachers .\nPerson:  C said Like there'd be space for that .\nPerson:  C said Yeah .\nPerson:  D said That should hold on .\nPerson:  B said What else ?\nPerson:  C said Design visual designs for your .\nPerson:  B said Very bad .\nPerson:  D said You can find it .\nPerson:  D said You did this to it or this notebook .\nPerson:  C said Yeah .\nPerson:  B said Yeah .\nPerson:  B said I think if we're thinking about if it's useful or harmful if it's useful then there has to be some action .\nPerson:  B said Right .\nPerson:  B said With the action actually is a teacher can help a student who they can find a student who needs help and help them .\nPerson:  B said And the other question is okay do we think they can find them ?\nPerson:  D said Probably if like everything's red number by the time to find them or it's already in red .\nPerson:  B said Yeah .\nPerson:  B said And then is it harmful ?\nPerson:  B said What could be harmful that you get like false positives ?\nPerson:  B said You're trying to help someone doesn't need help .\nPerson:  B said Okay .\nPerson:  B said Have you gone fall about it ?\nPerson:  B said His bias thing but by senior or I think the times you don't foresee things you don't you don't see things from time you're not seeing things in time .\nPerson:  B said And if you're relying only on the dashboard then you're not doing anything else .\nPerson:  C said You can just see things that happens .\nPerson:  D said You have to you have to check and reading for the day .\nPerson:  D said The state no previous you how we want the next two days before .\nPerson:  D said So if I know it's a snapshot I know if I log in today and I see the student in red but I remember it tomorrow that yesterday I saw this one and today he's agreed or he is .\nPerson:  C said It stayed in there every day where that I don't know .\nPerson:  C said Even when they reassessment whatever is the probably only look at it like twice .\nPerson:  C said your midterm what else ?\nPerson:  C said I dunno .\nPerson:  C said It depends on assessments in there but especially the teacher has to put in the assessment data and they're not going to do that very much .\nPerson:  C said Right .\nPerson:  C said Like that's a lot of work .\nPerson:  B said Yeah .\nPerson:  B said That ideally it's linked to wherever they can put it in anyway .\nPerson:  B said Right .\nPerson:  B said That's the point .\nPerson:  B said We'll see you .\nPerson:  C said You made me think that chaotic and you don't also have deals rituals around the dashboard that the dashboard is red is used .\nPerson:  C said You just rely on teaching teachers having time and spontaneously logging in to see the data .\nPerson:  C said I'm not sure if this is going to be actionable or maybe there should be something that is beyond the dashboard .\nPerson:  C said The data meeting side of this week have to log in and see what's going on .\nPerson:  B said So that's the human soft part that is not it's not UI but it's UX because it should map into an experience .\nPerson:  B said It's hard to see from the video but if it's just a dashboard I don't believe we have some teachers on it .\nPerson:  C said I don't think they'll use it .\nPerson:  C said Do you hear us ?\nPerson:  C said N S a lot's going on need to your leader .\nPerson:  B said What does this for measuring our collaboration .\nPerson:  A said So for example you would you look at each other intubation score .\nPerson:  A said So we would analyze the data .\nPerson:  A said One of the last sessions that we will use this date .\nPerson:  C said Very cool .\nPerson:  D said How their eight .\n",
          "name": "stdout"
        }
      ]
    },
    {
      "metadata": {
        "trusted": true
      },
      "cell_type": "code",
      "source": "",
      "execution_count": null,
      "outputs": []
    }
  ],
  "metadata": {
    "kernelspec": {
      "name": "python36",
      "display_name": "Python 3.6",
      "language": "python"
    },
    "language_info": {
      "mimetype": "text/x-python",
      "nbconvert_exporter": "python",
      "name": "python",
      "pygments_lexer": "ipython3",
      "version": "3.6.6",
      "file_extension": ".py",
      "codemirror_mode": {
        "version": 3,
        "name": "ipython"
      }
    }
  },
  "nbformat": 4,
  "nbformat_minor": 2
}