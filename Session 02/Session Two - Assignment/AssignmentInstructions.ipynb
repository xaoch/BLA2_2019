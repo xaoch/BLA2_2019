{
  "cells": [
    {
      "metadata": {
        "collapsed": true
      },
      "cell_type": "markdown",
      "source": "# Student Data Assignment (Session 2)\n\nThe goal of this assignment is to create a dashboard that could help a teacher make sense of the data in the dataset (<a href=\"https://notebooks.azure.com/xavierochoa/projects/bla2/html/Session%20Two/Session%20Two%20-%20Assignment/xAPI-Edu-Data.csv\">download the file</a>).  \n\nYou can reuse the same type of visualizations that you used in the tutorial, but this time the dashboard should have a clear purpose and should be more supporting of the teacher.\n\nAs usual, you have to create the dashboard, publish it and copy the link into the NYU Classes Assignment.\n\n"
    },
    {
      "metadata": {},
      "cell_type": "markdown",
      "source": "### Recommendations for Extra points:\n\n* Use more sophisticated visualizations (2 points)\n* Show a Student Profile, with the information of each student.  Teacher can navigate between students. (3 points)\n* Perform a more sophisticated statistical analysis (1 to 4 points)\n\nNOTE: The maximum number of extra points for this assignment is 5.\n"
    },
    {
      "metadata": {},
      "cell_type": "markdown",
      "source": "# Description of the dataset\n\n## Students' Academic Performance Dataset (xAPI-Edu-Data)\n\nData Set Characteristics: Multivariate\n\nNumber of Instances: 480\n\nArea: E-learning, Education, Predictive models, Educational Data Mining\n\nAttribute Characteristics: Integer/Categorical\n\nNumber of Attributes: 16\n\nDate: 2016-11-8\n\nAssociated Tasks: Classification\n\nMissing Values? No\n\nFile formats: xAPI-Edu-Data.csv\n\n### Source:\nElaf Abu Amrieh, Thair Hamtini, and Ibrahim Aljarah, The University of Jordan, Amman, Jordan, http://www.Ibrahimaljarah.com www.ju.edu.jo\n\n### Dataset Information:\nThis is an educational data set which is collected from learning management system (LMS) called Kalboard 360. Kalboard 360 is a multi-agent LMS, which has been designed to facilitate learning through the use of leading-edge technology. Such system provides users with a synchronous access to educational resources from any device with Internet connection.\n\nThe data is collected using a learner activity tracker tool, which called experience API (xAPI). The xAPI is a component of the training and learning architecture (TLA) that enables to monitor learning progress and learner’s actions like reading an article or watching a training video. The experience API helps the learning activity providers to determine the learner, activity and objects that describe a learning experience. The dataset consists of 480 student records and 16 features. The features are classified into three major categories: (1) Demographic features such as gender and nationality. (2) Academic background features such as educational stage, grade Level and section. (3) Behavioral features such as raised hand on class, opening resources, answering survey by parents, and school satisfaction.\n\nThe dataset consists of 305 males and 175 females. The students come from different origins such as 179 students are from Kuwait, 172 students are from Jordan, 28 students from Palestine, 22 students are from Iraq, 17 students from Lebanon, 12 students from Tunis, 11 students from Saudi Arabia, 9 students from Egypt, 7 students from Syria, 6 students from USA, Iran and Libya, 4 students from Morocco and one student from Venezuela.\n\nThe dataset is collected through two educational semesters: 245 student records are collected during the first semester and 235 student records are collected during the second semester.\n\nThe data set includes also the school attendance feature such as the students are classified into two categories based on their absence days: 191 students exceed 7 absence days and 289 students their absence days under 7.\n\nThis dataset includes also a new category of features; this feature is parent participation in the educational process. Parent participation feature have two sub features: Parent Answering Survey and Parent School Satisfaction. There are 270 of the parents answered survey and 210 are not, 292 of the parents are satisfied from the school and 188 are not.\n\n(See the related papers for more details).\n\n### Attributes\n1. Gender - student's gender (nominal: 'Male' or 'Female’)\n\n2. Nationality- student's nationality (nominal:’ Kuwait’,’ Lebanon’,’ Egypt’,’ SaudiArabia’,’ USA’,’ Jordan’,’ Venezuela’,’ Iran’,’ Tunis’,’ Morocco’,’ Syria’,’ Palestine’,’ Iraq’,’ Lybia’)\n\n3. Place of birth- student's Place of birth (nominal:’ Kuwait’,’ Lebanon’,’ Egypt’,’ SaudiArabia’,’ USA’,’ Jordan’,’ Venezuela’,’ Iran’,’ Tunis’,’ Morocco’,’ Syria’,’ Palestine’,’ Iraq’,’ Lybia’)\n\n4. Educational Stages- educational level student belongs (nominal: ‘lowerlevel’,’MiddleSchool’,’HighSchool’)\n\n5. Grade Levels- grade student belongs (nominal: ‘G-01’, ‘G-02’, ‘G-03’, ‘G-04’, ‘G-05’, ‘G-06’, ‘G-07’, ‘G-08’, ‘G-09’, ‘G-10’, ‘G-11’, ‘G-12 ‘)\n\n6. Section ID- classroom student belongs (nominal:’A’,’B’,’C’)\n\n7. Topic- course topic (nominal:’ English’,’ Spanish’, ‘French’,’ Arabic’,’ IT’,’ Math’,’ Chemistry’, ‘Biology’, ‘Science’,’ History’,’ Quran’,’ Geology’)\n\n8. Semester- school year semester (nominal:’ First’,’ Second’)\n\n9. Parent responsible for student (nominal:’mom’,’father’)\n\n10. Raised hand- how many times the student raises his/her hand on classroom (numeric:0-100)\n\n11. Visited resources- how many times the student visits a course content(numeric:0-100)\n\n12. Viewing announcements-how many times the student checks the new announcements(numeric:0-100)\n\n13. Discussion groups- how many times the student participate on discussion groups (numeric:0-100)\n\n14. Parent Answering Survey- parent answered the surveys which are provided from school or not (nominal:’Yes’,’No’)\n\n15. Parent School Satisfaction- the Degree of parent satisfaction from school(nominal:’Yes’,’No’)\n\n16. Student Absence Days-the number of absence days for each student (nominal: above-7, under-7)\n\nThe students are classified into three numerical intervals based on their total grade/mark:\n* Low-Level: interval includes values from 0 to 69,\n\n* Middle-Level: interval includes values from 70 to 89,\n\n* High-Level: interval includes values from 90-100.\n\n### Relevant Papers:\n* Amrieh, E. A., Hamtini, T., & Aljarah, I. (2016). Mining Educational Data to Predict Student’s academic Performance using Ensemble Methods. International Journal of Database Theory and Application, 9(8), 119-136.\n\n* Amrieh, E. A., Hamtini, T., & Aljarah, I. (2015, November). Preprocessing and analyzing educational data set using X-API for improving student's performance. In Applied Electrical Engineering and Computing Technologies (AEECT), 2015 IEEE Jordan Conference on (pp. 1-5). IEEE."
    },
    {
      "metadata": {
        "trusted": true
      },
      "cell_type": "code",
      "source": "",
      "execution_count": null,
      "outputs": []
    }
  ],
  "metadata": {
    "kernelspec": {
      "name": "r",
      "display_name": "R",
      "language": "R"
    },
    "language_info": {
      "mimetype": "text/x-r-source",
      "name": "R",
      "pygments_lexer": "r",
      "version": "3.5.3",
      "file_extension": ".r",
      "codemirror_mode": "r"
    }
  },
  "nbformat": 4,
  "nbformat_minor": 2
}