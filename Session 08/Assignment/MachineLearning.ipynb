{
  "cells": [
    {
      "metadata": {
        "collapsed": true
      },
      "cell_type": "markdown",
      "source": "# Machine Learning\n\nCreate a predictive model using any machine learning technique using any dataset (used or not used in previous tutorials or assignments).\n\nCreate a dashboard that let you set the predictor variables.\n\n## Extra Credit\n\n* Present also the uncertainty (2 points)\n* Create at least 3 models and present the different preditions (2 points)\n* Have an interesting way to present the prediction (1-5 points)"
    },
    {
      "metadata": {
        "trusted": true
      },
      "cell_type": "code",
      "source": "",
      "execution_count": null,
      "outputs": []
    }
  ],
  "metadata": {
    "kernelspec": {
      "name": "python36",
      "display_name": "Python 3.6",
      "language": "python"
    },
    "language_info": {
      "mimetype": "text/x-python",
      "nbconvert_exporter": "python",
      "name": "python",
      "pygments_lexer": "ipython3",
      "version": "3.6.6",
      "file_extension": ".py",
      "codemirror_mode": {
        "version": 3,
        "name": "ipython"
      }
    }
  },
  "nbformat": 4,
  "nbformat_minor": 2
}