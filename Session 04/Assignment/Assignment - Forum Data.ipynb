{
  "cells": [
    {
      "metadata": {
        "collapsed": true
      },
      "cell_type": "markdown",
      "source": "# Assignment - Week 4: Forum Data\n\nThis week we will use the same dataset than in the tutorial.  The challenge will be to create a different visualization based on the analysis done on the tutorials.\n\nTo have full credit you just need to create a dashboard with just one different visualization of the data.\n\n## To get extra credit:\n\nTo get extra credit, you can try the following ideas:\n\n* Perform a sentiment analysis that involve the posibillity of having a negative before (such as no happy, never good, etc). (4 points)\n* Do a better community analysis. (4 points)\n* Cluster the students based on their behaviour in the forum (3 points)"
    },
    {
      "metadata": {
        "trusted": true
      },
      "cell_type": "code",
      "source": "",
      "execution_count": null,
      "outputs": []
    }
  ],
  "metadata": {
    "kernelspec": {
      "name": "r",
      "display_name": "R",
      "language": "R"
    },
    "language_info": {
      "mimetype": "text/x-r-source",
      "name": "R",
      "pygments_lexer": "r",
      "version": "3.5.3",
      "file_extension": ".r",
      "codemirror_mode": "r"
    }
  },
  "nbformat": 4,
  "nbformat_minor": 2
}