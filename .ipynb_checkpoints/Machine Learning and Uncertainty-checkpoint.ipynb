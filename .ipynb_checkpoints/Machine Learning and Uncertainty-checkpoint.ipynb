{
  "cells": [
    {
      "metadata": {
        "collapsed": true
      },
      "cell_type": "markdown",
      "source": "# Risk and Uncertainty\n\nThe first part of this tutorial will show how can we use clustering to create a risk predictor with an associated measurement of its uncertainty.\n\nFirst, we will load two datasets.  The first one contains information about students and their performance in different groups of courses.  The second have information about the type of semesters that these students took.\n\nLet's start loading the required libraries in Python"
    },
    {
      "metadata": {
        "trusted": true
      },
      "cell_type": "code",
      "source": "import pandas as pd\nimport numpy\nfrom sklearn import cluster\nfrom sklearn.metrics import brier_score_loss\nfrom sklearn.calibration import calibration_curve\nimport matplotlib.pyplot as plt",
      "execution_count": 1,
      "outputs": []
    },
    {
      "metadata": {},
      "cell_type": "markdown",
      "source": "Now, let's load the student information"
    },
    {
      "metadata": {
        "trusted": true
      },
      "cell_type": "code",
      "source": "students = pd.read_csv(\"students.csv\")\nstudents.head()",
      "execution_count": 2,
      "outputs": [
        {
          "output_type": "execute_result",
          "execution_count": 2,
          "data": {
            "text/html": "<div>\n<style scoped>\n    .dataframe tbody tr th:only-of-type {\n        vertical-align: middle;\n    }\n\n    .dataframe tbody tr th {\n        vertical-align: top;\n    }\n\n    .dataframe thead th {\n        text-align: right;\n    }\n</style>\n<table border=\"1\" class=\"dataframe\">\n  <thead>\n    <tr style=\"text-align: right;\">\n      <th></th>\n      <th>Unnamed: 0</th>\n      <th>student_id</th>\n      <th>factor1</th>\n      <th>factor2</th>\n      <th>factor3</th>\n      <th>factor4</th>\n      <th>factor5</th>\n      <th>gpa</th>\n    </tr>\n  </thead>\n  <tbody>\n    <tr>\n      <th>0</th>\n      <td>1</td>\n      <td>691c86211b9332626f9fe928166a3ebc</td>\n      <td>3.575789</td>\n      <td>3.072500</td>\n      <td>6.350000</td>\n      <td>0.00</td>\n      <td>4.575000</td>\n      <td>4.74</td>\n    </tr>\n    <tr>\n      <th>1</th>\n      <td>2</td>\n      <td>e8d43918176368313368e5d6590d7b2e</td>\n      <td>4.648125</td>\n      <td>4.047778</td>\n      <td>6.220000</td>\n      <td>7.75</td>\n      <td>5.250000</td>\n      <td>8.40</td>\n    </tr>\n    <tr>\n      <th>2</th>\n      <td>3</td>\n      <td>4c8f414a7312185477484c679144f284</td>\n      <td>5.223333</td>\n      <td>6.007143</td>\n      <td>6.793333</td>\n      <td>7.16</td>\n      <td>5.723333</td>\n      <td>6.33</td>\n    </tr>\n    <tr>\n      <th>3</th>\n      <td>4</td>\n      <td>247ff15b0c0537e2f118bcc27692ced5</td>\n      <td>6.566000</td>\n      <td>4.996000</td>\n      <td>6.633333</td>\n      <td>2.09</td>\n      <td>8.415000</td>\n      <td>5.63</td>\n    </tr>\n    <tr>\n      <th>4</th>\n      <td>5</td>\n      <td>f7f153c13c2bc64f850f702aa7f48077</td>\n      <td>2.819444</td>\n      <td>0.750000</td>\n      <td>5.093333</td>\n      <td>0.00</td>\n      <td>3.562000</td>\n      <td>6.20</td>\n    </tr>\n  </tbody>\n</table>\n</div>",
            "text/plain": "   Unnamed: 0                        student_id   factor1   factor2   factor3  \\\n0           1  691c86211b9332626f9fe928166a3ebc  3.575789  3.072500  6.350000   \n1           2  e8d43918176368313368e5d6590d7b2e  4.648125  4.047778  6.220000   \n2           3  4c8f414a7312185477484c679144f284  5.223333  6.007143  6.793333   \n3           4  247ff15b0c0537e2f118bcc27692ced5  6.566000  4.996000  6.633333   \n4           5  f7f153c13c2bc64f850f702aa7f48077  2.819444  0.750000  5.093333   \n\n   factor4   factor5   gpa  \n0     0.00  4.575000  4.74  \n1     7.75  5.250000  8.40  \n2     7.16  5.723333  6.33  \n3     2.09  8.415000  5.63  \n4     0.00  3.562000  6.20  "
          },
          "metadata": {}
        }
      ]
    },
    {
      "metadata": {},
      "cell_type": "markdown",
      "source": "<font color=\"darkblue\">**Explanation:**\n<ul>\n<li>The students.csv file contains the following information:\n<li>*student_id*: Student identification\n<li>*factor1*: The average grade of the students in courses that belong to the first factor\n<li>*factor2*: The average grade of the students in courses that belong to the second factor\n<li>*factor3*: The average grade of the students in courses that belong to the third factor\n<li>*factor4*: The average grade of the students in courses that belong to the fourth factor\n<li>*factor5*: The average grade of the students in courses that belong to the fifth factor\n<li>*gpa*: General average of the student's grades\n</ul>\n</font>"
    },
    {
      "metadata": {},
      "cell_type": "markdown",
      "source": "Now, we can load the semester information"
    },
    {
      "metadata": {
        "trusted": true
      },
      "cell_type": "code",
      "source": "semesters = pd.read_csv(\"semesters.csv\")\nsemesters.head()",
      "execution_count": 3,
      "outputs": [
        {
          "output_type": "execute_result",
          "execution_count": 3,
          "data": {
            "text/html": "<div>\n<style scoped>\n    .dataframe tbody tr th:only-of-type {\n        vertical-align: middle;\n    }\n\n    .dataframe tbody tr th {\n        vertical-align: top;\n    }\n\n    .dataframe thead th {\n        text-align: right;\n    }\n</style>\n<table border=\"1\" class=\"dataframe\">\n  <thead>\n    <tr style=\"text-align: right;\">\n      <th></th>\n      <th>Unnamed: 0</th>\n      <th>semester_id</th>\n      <th>student_id</th>\n      <th>fail</th>\n      <th>year</th>\n      <th>order</th>\n      <th>semester</th>\n      <th>beta_total</th>\n      <th>num_classes</th>\n    </tr>\n  </thead>\n  <tbody>\n    <tr>\n      <th>0</th>\n      <td>1</td>\n      <td>0</td>\n      <td>97d4d28f8412b1651e17042791b5bd84</td>\n      <td>True</td>\n      <td>1978</td>\n      <td>1</td>\n      <td>1S</td>\n      <td>0.072262</td>\n      <td>5</td>\n    </tr>\n    <tr>\n      <th>1</th>\n      <td>2</td>\n      <td>1</td>\n      <td>97d4d28f8412b1651e17042791b5bd84</td>\n      <td>False</td>\n      <td>1978</td>\n      <td>2</td>\n      <td>2S</td>\n      <td>1.443359</td>\n      <td>4</td>\n    </tr>\n    <tr>\n      <th>2</th>\n      <td>3</td>\n      <td>2</td>\n      <td>97d4d28f8412b1651e17042791b5bd84</td>\n      <td>True</td>\n      <td>1979</td>\n      <td>3</td>\n      <td>1S</td>\n      <td>0.919784</td>\n      <td>4</td>\n    </tr>\n    <tr>\n      <th>3</th>\n      <td>4</td>\n      <td>3</td>\n      <td>97d4d28f8412b1651e17042791b5bd84</td>\n      <td>True</td>\n      <td>1979</td>\n      <td>4</td>\n      <td>2S</td>\n      <td>0.213528</td>\n      <td>4</td>\n    </tr>\n    <tr>\n      <th>4</th>\n      <td>5</td>\n      <td>4</td>\n      <td>97d4d28f8412b1651e17042791b5bd84</td>\n      <td>True</td>\n      <td>1980</td>\n      <td>5</td>\n      <td>1S</td>\n      <td>-0.428132</td>\n      <td>3</td>\n    </tr>\n  </tbody>\n</table>\n</div>",
            "text/plain": "   Unnamed: 0  semester_id                        student_id   fail  year  \\\n0           1            0  97d4d28f8412b1651e17042791b5bd84   True  1978   \n1           2            1  97d4d28f8412b1651e17042791b5bd84  False  1978   \n2           3            2  97d4d28f8412b1651e17042791b5bd84   True  1979   \n3           4            3  97d4d28f8412b1651e17042791b5bd84   True  1979   \n4           5            4  97d4d28f8412b1651e17042791b5bd84   True  1980   \n\n   order semester  beta_total  num_classes  \n0      1       1S    0.072262            5  \n1      2       2S    1.443359            4  \n2      3       1S    0.919784            4  \n3      4       2S    0.213528            4  \n4      5       1S   -0.428132            3  "
          },
          "metadata": {}
        }
      ]
    },
    {
      "metadata": {},
      "cell_type": "markdown",
      "source": "<font color=\"darkblue\">**Explanation:**\n<ul>\n<li>The semesters.csv file contains the following information:\n<li>*student_id*: Student identification\n<li>*fail*: If the student have failed at least 1 course during the semester\n<li>*year*: Year in which the semester was taken\n<li>*order*: Number of the semester for that students (first, second, third, etc.)\n<li>*semester*: The first \"1S\" or second \"2S\" semester of the year\n<li>*beta_total*: Addition of the beta (difficulty) of all the courses taken that semester\n<li>*num_classes*: Total number of classes taken that semester\n</ul>\n</font>"
    },
    {
      "metadata": {},
      "cell_type": "markdown",
      "source": "# We will now create a model to predict the risk of students taking the course.  This model will be based on clustering.\n\nThe general idea of the model is:  \n* To predict the risk that a student will fail at least one course in a given semester,\n* First, we find students that are similar to the student.  To do this we need to cluster the students and find out in which cluster the student is.\n* Second, from all the students that are in the same cluster, we find which of them have taken similar semester to the one being propose.\n* We calculate the proportion of similar students, that have taken similar semesters that have failed.\n* Finally, we assign this proportion as the probability of the proposed student, failed the proposed semester.\n\nLet's first separate the data into a train and test set.  To create a realistic prediction, we will use only data before 2012 to train the model and we use data from 2012 onwards to test the model.  It will be similar to train the model with all the existing information and making prediction for new student-semesters."
    },
    {
      "metadata": {
        "trusted": true
      },
      "cell_type": "code",
      "source": "semesters_train=semesters[semesters['year'] < 2012]\nsemesters_test=semesters[semesters['year'] > 2011]\n\nstudents_train=students[students['student_id'].isin(semesters_train['student_id'].tolist())]\nstudents_test=students[students['student_id'].isin(semesters_test['student_id'].tolist())]\n\nstudents_test_ids=students_test['student_id'].tolist()\n\nsemesters_test=semesters_test[semesters_test['student_id'].isin(students_test_ids)]",
      "execution_count": 4,
      "outputs": []
    },
    {
      "metadata": {
        "trusted": true
      },
      "cell_type": "code",
      "source": "vector_students=students_train[['factor1', 'factor2','factor3','factor4','factor5','gpa']]\nk_clusters = 5\n\nclus_students = cluster.KMeans(n_clusters=k_clusters, n_init=200)\nclus_students.fit(vector_students)\nstudents_train[\"cluster\"]=clus_students.labels_",
      "execution_count": 5,
      "outputs": []
    },
    {
      "metadata": {
        "trusted": true,
        "scrolled": true
      },
      "cell_type": "code",
      "source": "vector_semesters=semesters_train[['order', 'beta_total','num_classes']]\nk_clusters = 8\n\nclus_semesters = cluster.KMeans(n_clusters=k_clusters, n_init=200)\nclus_semesters.fit(vector_semesters)\nsemesters_train[\"cluster\"]=clus_semesters.labels_",
      "execution_count": 6,
      "outputs": [
        {
          "output_type": "stream",
          "text": "/home/nbuser/anaconda3_501/lib/python3.6/site-packages/ipykernel/__main__.py:6: SettingWithCopyWarning: \nA value is trying to be set on a copy of a slice from a DataFrame.\nTry using .loc[row_indexer,col_indexer] = value instead\n\nSee the caveats in the documentation: http://pandas.pydata.org/pandas-docs/stable/indexing.html#indexing-view-versus-copy\n",
          "name": "stderr"
        }
      ]
    },
    {
      "metadata": {},
      "cell_type": "markdown",
      "source": "Now, lets predict the cluster for each one of these students after 2012"
    },
    {
      "metadata": {
        "trusted": true
      },
      "cell_type": "code",
      "source": "vector_students=students_test[['factor1', 'factor2','factor3','factor4','factor5','gpa']]\npredicted_cluster=clus_students.predict(vector_students)\nstudents_test[\"cluster\"]=predicted_cluster\n\nvector_semesters=semesters_test[['order', 'beta_total','num_classes']]\npredicted_cluster=clus_semesters.predict(vector_semesters)\nsemesters_test[\"cluster\"]=predicted_cluster",
      "execution_count": 7,
      "outputs": [
        {
          "output_type": "stream",
          "text": "/home/nbuser/anaconda3_501/lib/python3.6/site-packages/ipykernel/__main__.py:3: SettingWithCopyWarning: \nA value is trying to be set on a copy of a slice from a DataFrame.\nTry using .loc[row_indexer,col_indexer] = value instead\n\nSee the caveats in the documentation: http://pandas.pydata.org/pandas-docs/stable/indexing.html#indexing-view-versus-copy\n  app.launch_new_instance()\n",
          "name": "stderr"
        }
      ]
    },
    {
      "metadata": {
        "trusted": true
      },
      "cell_type": "code",
      "source": "def get_risk(semester_id):\n    semester=semesters_test[semesters_test[\"semester_id\"]==semester_id]\n    student_id=semester[\"student_id\"].values[0]\n    student_info=students_test[students_test[\"student_id\"]==student_id]\n    cluster_student=student_info[\"cluster\"].values[0]\n    similar_students=students_train[students_train[\"cluster\"]==cluster_student]\n    similar_students_ids=similar_students[\"student_id\"].tolist()\n    semester_cluster=semester[\"cluster\"].values[0]\n    selected_semesters=semesters_train[semesters_train[\"student_id\"].isin(similar_students_ids)]\n    selected_semesters=selected_semesters[selected_semesters['cluster']==semester_cluster]\n    total_cases=len(selected_semesters)\n    failed_cases=len(selected_semesters[selected_semesters['fail']==True])\n    risk=failed_cases/total_cases\n    return risk",
      "execution_count": 8,
      "outputs": []
    },
    {
      "metadata": {
        "trusted": true
      },
      "cell_type": "code",
      "source": "semesters_test[\"risk_prediction\"]=semesters_test['semester_id'].apply(lambda x: get_risk(x))",
      "execution_count": 9,
      "outputs": []
    },
    {
      "metadata": {
        "trusted": true
      },
      "cell_type": "code",
      "source": "def get_uncertainty(semester_id):\n    semester=semesters_test[semesters_test[\"semester_id\"]==semester_id]\n    student_id=semester[\"student_id\"].values[0]\n    student_info=students_test[students_test[\"student_id\"]==student_id]\n    cluster_student=student_info[\"cluster\"].values[0]\n    similar_students=students_train[students_train[\"cluster\"]==cluster_student]\n    similar_students_ids=similar_students[\"student_id\"].tolist()\n    semester_cluster=semester[\"cluster\"].values[0]\n    selected_semesters=semesters_train[semesters_train[\"student_id\"].isin(similar_students_ids)]\n    selected_semesters=selected_semesters[selected_semesters['cluster']==semester_cluster]\n    total_cases=len(selected_semesters)\n    return total_cases",
      "execution_count": 10,
      "outputs": []
    },
    {
      "metadata": {
        "trusted": true
      },
      "cell_type": "code",
      "source": "semesters_test[\"risk_uncertainty\"]=semesters_test['semester_id'].apply(lambda x: get_uncertainty(x))",
      "execution_count": 11,
      "outputs": []
    },
    {
      "metadata": {
        "trusted": true
      },
      "cell_type": "code",
      "source": "brier_score_loss(semesters_test['fail'], semesters_test['risk_prediction'])",
      "execution_count": 12,
      "outputs": [
        {
          "output_type": "execute_result",
          "execution_count": 12,
          "data": {
            "text/plain": "0.18530510407799886"
          },
          "metadata": {}
        }
      ]
    },
    {
      "metadata": {
        "trusted": true
      },
      "cell_type": "code",
      "source": "fraction_of_positives, mean_predicted_value = calibration_curve(semesters_test['fail'], semesters_test['risk_prediction'], n_bins=10)",
      "execution_count": 13,
      "outputs": []
    },
    {
      "metadata": {
        "trusted": true
      },
      "cell_type": "code",
      "source": "plt.plot(mean_predicted_value, fraction_of_positives, \"s-\")\nplt.plot(mean_predicted_value,mean_predicted_value,'r-')",
      "execution_count": 14,
      "outputs": [
        {
          "output_type": "execute_result",
          "execution_count": 14,
          "data": {
            "text/plain": "[<matplotlib.lines.Line2D at 0x7f9d318895f8>]"
          },
          "metadata": {}
        },
        {
          "output_type": "display_data",
          "data": {
            "image/png": "[encoded data removed]",
            "text/plain": "<Figure size 432x288 with 1 Axes>"
          },
          "metadata": {
            "needs_background": "light"
          }
        }
      ]
    },
    {
      "metadata": {
        "trusted": true
      },
      "cell_type": "code",
      "source": "def get_new_risk_and_uncertainty(factor1,factor2,factor3,factor4,factor5,gpa,order, beta_total,num_classes):\n    columns_student=[\"factor1\",\"factor2\",\"factor3\",\"factor4\",\"factor5\",\"gpa\"]\n    columns_semester=['order', 'beta_total','num_classes']\n    student_data = pd.DataFrame([[factor1,factor2,factor3,factor4,factor5,gpa]], columns=columns_student)\n    semester_data = pd.DataFrame([[order,beta_total,num_classes]], columns=columns_semester)\n    student_cluster=clus_students.predict(student_data)[0]\n    semester_cluster=clus_semesters.predict(semester_data)[0]\n    \n    similar_students=students_train[students_train[\"cluster\"]==student_cluster]\n    similar_students_ids=similar_students[\"student_id\"].tolist()\n    \n    selected_semesters=semesters_train[semesters_train[\"student_id\"].isin(similar_students_ids)]\n    selected_semesters=selected_semesters[selected_semesters['cluster']==semester_cluster]\n    \n    total_cases=len(selected_semesters)\n    failed_cases=len(selected_semesters[selected_semesters['fail']==True])\n    risk=failed_cases/total_cases\n    return risk,total_cases",
      "execution_count": 15,
      "outputs": []
    },
    {
      "metadata": {
        "trusted": true
      },
      "cell_type": "code",
      "source": "risk,certainty=get_new_risk_and_uncertainty(8,8,8,8,8,8,2,1,5)\nrisk,certainty",
      "execution_count": 16,
      "outputs": [
        {
          "output_type": "execute_result",
          "execution_count": 16,
          "data": {
            "text/plain": "(0.17772215269086358, 799)"
          },
          "metadata": {}
        }
      ]
    },
    {
      "metadata": {
        "trusted": true
      },
      "cell_type": "code",
      "source": "risk,certainty=get_new_risk_and_uncertainty(5,5,5,5,5,5,2,1,5)\nrisk,certainty",
      "execution_count": 17,
      "outputs": [
        {
          "output_type": "execute_result",
          "execution_count": 17,
          "data": {
            "text/plain": "(0.7705286839145107, 889)"
          },
          "metadata": {}
        }
      ]
    },
    {
      "metadata": {},
      "cell_type": "markdown",
      "source": "## Machine Learning\n\nIn many ways, machine learning is the primary means by which data science manifests itself to the broader world.\nMachine learning is where these computational and algorithmic skills of data science meet the statistical thinking of data science, and the result is a collection of approaches to inference and data exploration that are not about effective theory so much as effective computation.\n\nThe term \"machine learning\" is sometimes thrown around as if it is some kind of magic pill: *apply machine learning to your data, and all your problems will be solved!*\nAs you might expect, the reality is rarely this simple.\nWhile these methods can be incredibly powerful, to be effective they must be approached with a firm grasp of the strengths and weaknesses of each method, as well as a grasp of general concepts such as bias and variance, overfitting and underfitting, and more.\n\n### Categories of Machine Learning\n\nAt the most fundamental level, machine learning can be categorized into two main types: supervised learning and unsupervised learning.\n\n*Supervised learning* involves somehow modeling the relationship between measured features of data and some label associated with the data; once this model is determined, it can be used to apply labels to new, unknown data.\nThis is further subdivided into *classification* tasks and *regression* tasks: in classification, the labels are discrete categories, while in regression, the labels are continuous quantities.\nWe will see examples of both types of supervised learning in the following section.\n\n*Unsupervised learning* involves modeling the features of a dataset without reference to any label, and is often described as \"letting the dataset speak for itself.\"\nThese models include tasks such as *clustering* and *dimensionality reduction.*\nClustering algorithms identify distinct groups of data, while dimensionality reduction algorithms search for more succinct representations of the data.\nWe will see examples of both types of unsupervised learning in the following section.\n\nIn addition, there are so-called *semi-supervised learning* methods, which falls somewhere between supervised learning and unsupervised learning. Semi-supervised learning methods are often useful when only incomplete labels are available."
    },
    {
      "metadata": {},
      "cell_type": "markdown",
      "source": "### Example of supervised Machine Learning \n\nUsing the same data that at the beginning of this tutorial, we will explore how to build a model to predict if a student will fail a semester based on their academic history.\n\nFirst we need to manipulate the data to put it in a format that enable the use of machine learning models in Python.\n\nThis format is one dataframe that contains all the predictor variables, and one dataframe that contain the variable to be predicted.  In our case, the predictor variables are the different grade averages of the student plus the characteristics of the semester.  The variable to be predicted is if the student will fail or not that semester."
    },
    {
      "metadata": {
        "trusted": true
      },
      "cell_type": "code",
      "source": "full_data = pd.merge(students,semesters,on='student_id',how='inner')\ntrain_data=full_data[full_data['year']<2012]\ntest_data=full_data[full_data['year']>2011]",
      "execution_count": 18,
      "outputs": []
    },
    {
      "metadata": {},
      "cell_type": "markdown",
      "source": "Now we create train and test set in the same way as before (using 2012 as the year to be predicted)"
    },
    {
      "metadata": {
        "trusted": true
      },
      "cell_type": "code",
      "source": "predictors_train = train_data[['factor1','factor2','factor3','factor4','factor5','gpa','order','beta_total','num_classes']]\nlabel_train = train_data[['fail']].values\n\npredictors_test = test_data[['factor1','factor2','factor3','factor4','factor5','gpa','order','beta_total','num_classes']]\nlabel_test = test_data[['fail']].values",
      "execution_count": 19,
      "outputs": []
    },
    {
      "metadata": {
        "trusted": true
      },
      "cell_type": "code",
      "source": "from sklearn.naive_bayes import GaussianNB \nmodel = GaussianNB()                       \nmodel.fit(predictors_train, label_train.ravel())                  \npredicted_labels = model.predict(predictors_test)             ",
      "execution_count": 20,
      "outputs": []
    },
    {
      "metadata": {
        "trusted": true
      },
      "cell_type": "code",
      "source": "from sklearn.metrics import accuracy_score\naccuracy_score(label_test, predicted_labels)",
      "execution_count": 21,
      "outputs": [
        {
          "output_type": "execute_result",
          "execution_count": 21,
          "data": {
            "text/plain": "0.7222222222222222"
          },
          "metadata": {}
        }
      ]
    },
    {
      "metadata": {
        "trusted": true
      },
      "cell_type": "code",
      "source": "from sklearn.metrics import confusion_matrix\nimport seaborn as sns;\n\nmat = confusion_matrix(label_test, predicted_labels)\n\nsns.heatmap(mat, square=True, annot=True, cbar=False)\nplt.xlabel('predicted value')\nplt.ylabel('true value');",
      "execution_count": 22,
      "outputs": [
        {
          "output_type": "display_data",
          "data": {
            "image/png": "[encoded data removed]",
            "text/plain": "<Figure size 432x288 with 1 Axes>"
          },
          "metadata": {
            "needs_background": "light"
          }
        }
      ]
    },
    {
      "metadata": {},
      "cell_type": "markdown",
      "source": "### Hyperparameters and Model Validation\n\nThe basic recipe for applying a supervised machine learning model:\n\n* Choose a class of model\n* Choose model hyperparameters\n* Fit the model to the training data\n* Use the model to predict labels for new data\n\nThe first two pieces of this—the choice of model and choice of hyperparameters—are perhaps the most important part of using these tools and techniques effectively.\nIn order to make an informed choice, we need a way to *validate* that our model and our hyperparameters are a good fit to the data.\nWhile this may sound simple, there are some pitfalls that you must avoid to do this effectively.\n\nIn principle, model validation is very simple: after choosing a model and its hyperparameters, we can estimate how effective it is by applying it to some of the training data and comparing the prediction to the known value.\n\n#### Model validation the wrong way\n\nLet's demonstrate the naive approach to validation:"
    },
    {
      "metadata": {
        "trusted": true
      },
      "cell_type": "code",
      "source": "from sklearn.neighbors import KNeighborsClassifier\nmodel = KNeighborsClassifier(n_neighbors=1)\n\nfull_data = pd.merge(students,semesters,on='student_id',how='inner')\npredictors = full_data[['factor1','factor2','factor3','factor4','factor5','gpa','order','beta_total','num_classes']]\nlabel = full_data[['fail']].values\n\nmodel.fit(predictors, label.ravel())\ny_model = model.predict(predictors)\naccuracy_score(label, y_model)",
      "execution_count": 23,
      "outputs": [
        {
          "output_type": "execute_result",
          "execution_count": 23,
          "data": {
            "text/plain": "1.0"
          },
          "metadata": {}
        }
      ]
    },
    {
      "metadata": {},
      "cell_type": "markdown",
      "source": "We see an accuracy score of 1.0, which indicates that 100% of points were correctly labeled by our model!\nBut is this truly measuring the expected accuracy? Have we really come upon a model that we expect to be correct 100% of the time?\n\nAs you may have gathered, the answer is no.\nIn fact, this approach contains a fundamental flaw: *it trains and evaluates the model on the same data*.\nFurthermore, the nearest neighbor model is an *instance-based* estimator that simply stores the training data, and predicts labels by comparing new data to these stored points: except in contrived cases, it will get 100% accuracy *every time!*"
    },
    {
      "metadata": {},
      "cell_type": "markdown",
      "source": "### Model validation the right way: Holdout sets\n\nSo what can be done?\nA better sense of a model's performance can be found using what's known as a *holdout set*: that is, we hold back some subset of the data from the training of the model, and then use this holdout set to check the model performance.\nThis splitting can be done using the ``train_test_split`` utility in Scikit-Learn:"
    },
    {
      "metadata": {
        "trusted": true
      },
      "cell_type": "code",
      "source": "from sklearn.model_selection import train_test_split\n\nX1, X2, y1, y2 = train_test_split(predictors, label, random_state=0, train_size=0.5)\n\nmodel.fit(X1, y1)\n\ny2_model = model.predict(X2)\naccuracy_score(y2, y2_model)",
      "execution_count": 24,
      "outputs": [
        {
          "output_type": "stream",
          "text": "/home/nbuser/anaconda3_501/lib/python3.6/site-packages/sklearn/model_selection/_split.py:2179: FutureWarning: From version 0.21, test_size will always complement train_size unless both are specified.\n  FutureWarning)\n/home/nbuser/anaconda3_501/lib/python3.6/site-packages/ipykernel/__main__.py:5: DataConversionWarning: A column-vector y was passed when a 1d array was expected. Please change the shape of y to (n_samples, ), for example using ravel().\n",
          "name": "stderr"
        },
        {
          "output_type": "execute_result",
          "execution_count": 24,
          "data": {
            "text/plain": "0.6756873595019885"
          },
          "metadata": {}
        }
      ]
    },
    {
      "metadata": {},
      "cell_type": "markdown",
      "source": "We see here a more reasonable result: the nearest-neighbor classifier is about 68% accurate on this hold-out set.\nThe hold-out set is similar to unknown data, because the model has not \"seen\" it before."
    },
    {
      "metadata": {},
      "cell_type": "markdown",
      "source": "### Model validation via cross-validation\n\nOne disadvantage of using a holdout set for model validation is that we have lost a portion of our data to the model training.\n\nIn the above case, half the dataset does not contribute to the training of the model!\nThis is not optimal, and can cause problems – especially if the initial set of training data is small.\n\nOne way to address this is to use *cross-validation*; that is, to do a sequence of fits where each subset of the data is used both as a training set and as a validation set.\n\nHere we do two validation trials, alternately using each half of the data as a holdout set.\nUsing the split data from before, we could implement it like this:"
    },
    {
      "metadata": {
        "trusted": true
      },
      "cell_type": "code",
      "source": "y2_model = model.fit(X1, y1.ravel()).predict(X2)\ny1_model = model.fit(X2, y2.ravel()).predict(X1)\naccuracy_score(y1, y1_model), accuracy_score(y2, y2_model)",
      "execution_count": 25,
      "outputs": [
        {
          "output_type": "execute_result",
          "execution_count": 25,
          "data": {
            "text/plain": "(0.6762061213902819, 0.6756873595019885)"
          },
          "metadata": {}
        }
      ]
    },
    {
      "metadata": {},
      "cell_type": "markdown",
      "source": "What comes out are two accuracy scores, which we could combine (by, say, taking the mean) to get a better measure of the global model performance.\nThis particular form of cross-validation is a *two-fold cross-validation*—that is, one in which we have split the data into two sets and used each in turn as a validation set.\n\nWe could expand on this idea to use even more trials, and more folds in the data.\n\nHere we split the data into five groups, and use each of them in turn to evaluate the model fit on the other 4/5 of the data.\nThis would be rather tedious to do by hand, and so we can use Scikit-Learn's ``cross_val_score`` convenience routine to do it succinctly:"
    },
    {
      "metadata": {
        "trusted": true
      },
      "cell_type": "code",
      "source": "from sklearn.model_selection import cross_val_score\nscores=cross_val_score(model, predictors, label.ravel(), cv=5)\nscores.mean()",
      "execution_count": 26,
      "outputs": [
        {
          "output_type": "execute_result",
          "execution_count": 26,
          "data": {
            "text/plain": "array([0.64555868, 0.66868381, 0.67574578, 0.68504107, 0.67401643])"
          },
          "metadata": {}
        }
      ]
    },
    {
      "metadata": {},
      "cell_type": "markdown",
      "source": "Repeating the validation across different subsets of the data gives us an even better idea of the performance of the algorithm."
    },
    {
      "metadata": {},
      "cell_type": "markdown",
      "source": "## Example of Machine Learning Algorithms"
    },
    {
      "metadata": {},
      "cell_type": "markdown",
      "source": "### Support Vector Machines\n\n"
    },
    {
      "metadata": {
        "trusted": true
      },
      "cell_type": "code",
      "source": "from sklearn.svm import SVC \nmodel = SVC(gamma='scale')\ncross_val_score(model, predictors, label.ravel(), cv=5)",
      "execution_count": 29,
      "outputs": [
        {
          "output_type": "execute_result",
          "execution_count": 29,
          "data": {
            "text/plain": "array([0.73935595, 0.73827534, 0.76437527, 0.78426286, 0.76761781])"
          },
          "metadata": {}
        }
      ]
    },
    {
      "metadata": {},
      "cell_type": "markdown",
      "source": "### Decision Trees"
    },
    {
      "metadata": {
        "trusted": true
      },
      "cell_type": "code",
      "source": "from sklearn.tree import DecisionTreeClassifier\nmodel = DecisionTreeClassifier()\nscores=cross_val_score(model,predictors,label.ravel(), cv=5)\nscores.mean()",
      "execution_count": 27,
      "outputs": [
        {
          "output_type": "execute_result",
          "execution_count": 27,
          "data": {
            "text/plain": "array([0.62999784, 0.66306462, 0.65456118, 0.68633809, 0.66904453])"
          },
          "metadata": {}
        }
      ]
    },
    {
      "metadata": {},
      "cell_type": "markdown",
      "source": "### Random Forest"
    },
    {
      "metadata": {
        "trusted": true
      },
      "cell_type": "code",
      "source": "from sklearn.ensemble import RandomForestClassifier\n\nmodel = RandomForestClassifier(n_estimators=100, random_state=0)\nscores=cross_val_score(model,predictors,label.ravel(), cv=5)\nscores.mean()",
      "execution_count": 28,
      "outputs": [
        {
          "output_type": "execute_result",
          "execution_count": 28,
          "data": {
            "text/plain": "array([0.71363735, 0.71752756, 0.73778642, 0.75680934, 0.75205361])"
          },
          "metadata": {}
        }
      ]
    },
    {
      "metadata": {},
      "cell_type": "markdown",
      "source": "# Dashboard\n\nWe will create a dashboard that will present the result of the two types of models.  The clustering algorithm and a Random Forest Classifier to predict the risk of a student.\n\nThis code should be run on Spyder. Then it should be upload into a github repository and published in heroku."
    },
    {
      "metadata": {
        "trusted": true
      },
      "cell_type": "code",
      "source": "",
      "execution_count": null,
      "outputs": []
    }
  ],
  "metadata": {
    "kernelspec": {
      "name": "python36",
      "display_name": "Python 3.6",
      "language": "python"
    },
    "language_info": {
      "mimetype": "text/x-python",
      "nbconvert_exporter": "python",
      "name": "python",
      "pygments_lexer": "ipython3",
      "version": "3.6.6",
      "file_extension": ".py",
      "codemirror_mode": {
        "version": 3,
        "name": "ipython"
      }
    }
  },
  "nbformat": 4,
  "nbformat_minor": 2
}