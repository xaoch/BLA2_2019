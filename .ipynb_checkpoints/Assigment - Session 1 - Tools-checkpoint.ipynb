{
  "cells": [
    {
      "metadata": {
        "collapsed": true
      },
      "cell_type": "markdown",
      "source": "# Session One - Installing Initial Tools\n\nThis session only has an assigment were you are tasked with:\n\n1. Installing R and R-Studio - 15 min\n2. Learning basic R (optional but recommended) - 90 min\n3. Installing FlexDashboard - 10 min\n4. Configuring Web publication - 10 min\n5. Building your first test dashboard - 60 min"
    },
    {
      "metadata": {},
      "cell_type": "markdown",
      "source": "## 1. Installing R and R-Studio\n\nIf you do not have R-Studio installed in your machine follow the directions in the video for your operating system:\n\n<a href=\"http://www.youtube.com/watch?feature=player_embedded&v=GAGUDL-4aVw\n\" target=\"_blank\"><h3>Windows</h3></a>\n\n<a href=\"http://www.youtube.com/watch?feature=player_embedded&v=1PsPfMaLWSk\n\" target=\"_blank\"><h3>Mac</h3></a>\n\n<a href=\"http://www.youtube.com/watch?feature=player_embedded&v=GsuA5ugYqyw\n\" target=\"_blank\"><h3>Linux - Ubuntu</h3></a>\n"
    },
    {
      "metadata": {},
      "cell_type": "markdown",
      "source": "## 2. Learning basic R \n\nThere several great resources to learn basic R, complete any of the suggested ones:\n\n* <a href=\"http://www.youtube.com/watch?feature=player_embedded&v=s3FozVfd7q4\n\" target=\"_blank\">Video Introduction</a>\n* <a href=\"https://github.com/swirldev/R_Programming_E\n\" target=\"_blank\">Interactive course of R in R</a>.  First you need to <a href=\"https://swirlstats.com/students.html\">install Swirl library</a> in R. "
    },
    {
      "metadata": {},
      "cell_type": "markdown",
      "source": "## 3. Installing FlexDashboard\n\nFleshDashboard is a R libary to create connected interactive visualizations (aka Dashboards).  To install and use the library, follow the \"Getting Started\" part of <a href=\"https://rmarkdown.rstudio.com/flexdashboard/\">this guide</a>."
    },
    {
      "metadata": {},
      "cell_type": "markdown",
      "source": "## 4. Configuring Web publication\n\nTo learn how to deplooy your Learning Ananalytics applications, follow <a href=\"https://shiny.rstudio.com/articles/shinyapps.html\">this tutorial </a> until before step \"Package Dependencies\""
    },
    {
      "metadata": {},
      "cell_type": "markdown",
      "source": "## 5. Building your first test dashboard\n\nNow we will use FlexDashboard and Shinyapps.io to create and publish our first test dashboard.  Follow the steps in <a href=\"https://www.rstudio.com/resources/webinars/introducing-flexdashboards/\">this video </a> until minute 30.\n\nThen click Publish in R-Studio and share that link of the web app with the instructor."
    },
    {
      "metadata": {
        "trusted": true
      },
      "cell_type": "code",
      "source": "",
      "execution_count": null,
      "outputs": []
    }
  ],
  "metadata": {
    "kernelspec": {
      "name": "r",
      "display_name": "R",
      "language": "R"
    },
    "language_info": {
      "mimetype": "text/x-r-source",
      "name": "R",
      "pygments_lexer": "r",
      "version": "3.5.3",
      "file_extension": ".r",
      "codemirror_mode": "r"
    }
  },
  "nbformat": 4,
  "nbformat_minor": 2
}