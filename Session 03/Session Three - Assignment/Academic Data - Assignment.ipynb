{
  "cells": [
    {
      "metadata": {
        "collapsed": true
      },
      "cell_type": "markdown",
      "source": "# Session 3 - Assignment: Academic Data"
    },
    {
      "metadata": {},
      "cell_type": "markdown",
      "source": "For this assignment you should create a dashboard that enable a program coordinator to know about the different paths that students are taking in this institution.  As minimum, it should replicate the functionallity of this Session tutorial.  \n\nThe data that we will use is provided by the University of Michigan and can be <a href=\"https://notebooks.azure.com/xavierochoa/projects/bla2/html/Session%2003/Session%20Three%20-%20Assignment/student.course.csv\">downloaded here</a>.\n\nOnce you have published the dashboard, reply to the NYU Classes assignment with the URL."
    },
    {
      "metadata": {},
      "cell_type": "markdown",
      "source": "## Extra Credit\n\nHere are some ideas to obtain extra credit in this assignment:\n* Calculate the difficulty of each instructor/course pair (2 - 3 points)\n* Calculate and visualize the courses that are taken before or after a given course (5 points)\n* Calculate and visualize which courses are taken together (5 points)\n* Create a new type of analysis with the data, different to the ones done in the tutorial (3 - 4 points)\n* Visualize the data in a new way (2 - 3 points)\n\nThe maximum extra credit is 5 points\n"
    },
    {
      "metadata": {},
      "cell_type": "markdown",
      "source": "## Data Description\n\nCourses taken by a student and grade received are recorded here. This may be multiple lines per student.\n\n* ANONID: Anonymous ID of the student, used to merge with columns of the student record table.\n* SUBJECT: Subject area of course.\n* CATALOG_NBR: Catalog number of the course.\n* GRD_PTS_PER_UNIT: Discrete numerical field ranging from 0-4, indicating the grade received.\n* GPAO: Grade point in all other classes over the student's career, up to and including the term the course was taken. \n* CUM_GPA: Actual CUM_GPA as of the term the course was taken.\n* DIV: The division (P=professional, H=Humanities,SS=Social Sciences, S=Science,E=Engineering,O=Other) of the SUBJECT.\n* ANON_INSTR_ID: Anonymized instructor ID. \n* TERM: Term the course was taken. "
    },
    {
      "metadata": {
        "trusted": true
      },
      "cell_type": "code",
      "source": "",
      "execution_count": null,
      "outputs": []
    }
  ],
  "metadata": {
    "kernelspec": {
      "name": "r",
      "display_name": "R",
      "language": "R"
    },
    "language_info": {
      "mimetype": "text/x-r-source",
      "name": "R",
      "pygments_lexer": "r",
      "version": "3.5.3",
      "file_extension": ".r",
      "codemirror_mode": "r"
    }
  },
  "nbformat": 4,
  "nbformat_minor": 2
}