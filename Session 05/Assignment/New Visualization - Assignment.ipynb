{
  "cells": [
    {
      "metadata": {},
      "cell_type": "markdown",
      "source": "# New Visualization\n\nUsing any dataset that we have seen in previous weeks, create a dashboard containing a new visualization not covered in previous weeks.\n\nTo get inspiration, consult <a href=\"https://www.r-graph-gallery.com/index.html\">this site</a>"
    },
    {
      "metadata": {
        "collapsed": true
      },
      "cell_type": "markdown",
      "source": "## Extra Credit\n\n- Use a new dataset (2 points)\n- Create one additional new visualization (2 points)\n- Link at least 3 visualizations together (3 points)"
    },
    {
      "metadata": {
        "trusted": true
      },
      "cell_type": "code",
      "source": "",
      "execution_count": null,
      "outputs": []
    }
  ],
  "metadata": {
    "kernelspec": {
      "name": "r",
      "display_name": "R",
      "language": "R"
    },
    "language_info": {
      "mimetype": "text/x-r-source",
      "name": "R",
      "pygments_lexer": "r",
      "version": "3.5.3",
      "file_extension": ".r",
      "codemirror_mode": "r"
    }
  },
  "nbformat": 4,
  "nbformat_minor": 2
}