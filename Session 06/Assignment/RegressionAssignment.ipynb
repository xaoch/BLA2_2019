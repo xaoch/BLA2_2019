{
  "cells": [
    {
      "metadata": {
        "collapsed": true
      },
      "cell_type": "markdown",
      "source": "# Assignment - Linear Regression\n\nIn this assignment, you will use Linear Regression to predict the result of students in a final essay paper, based on their score in previous papers.\n\nThe dataset is synthetic, but it represents what could be a real scenario."
    },
    {
      "metadata": {
        "trusted": true
      },
      "cell_type": "code",
      "source": "import pandas as pd",
      "execution_count": 1,
      "outputs": []
    },
    {
      "metadata": {
        "trusted": true
      },
      "cell_type": "code",
      "source": "df=pd.read_csv(\"Student_Performance_Data.txt\",sep=\"|\")\ndf.head(20)",
      "execution_count": 5,
      "outputs": [
        {
          "output_type": "execute_result",
          "execution_count": 5,
          "data": {
            "text/html": "<div>\n<style scoped>\n    .dataframe tbody tr th:only-of-type {\n        vertical-align: middle;\n    }\n\n    .dataframe tbody tr th {\n        vertical-align: top;\n    }\n\n    .dataframe thead th {\n        text-align: right;\n    }\n</style>\n<table border=\"1\" class=\"dataframe\">\n  <thead>\n    <tr style=\"text-align: right;\">\n      <th></th>\n      <th>Student_ID</th>\n      <th>Semster_Name</th>\n      <th>Paper_ID</th>\n      <th>Paper_Name</th>\n      <th>Marks</th>\n    </tr>\n  </thead>\n  <tbody>\n    <tr>\n      <th>0</th>\n      <td>SID20131143</td>\n      <td>Sem_1</td>\n      <td>SEMI0012995</td>\n      <td>Paper 1</td>\n      <td>44</td>\n    </tr>\n    <tr>\n      <th>1</th>\n      <td>SID20131143</td>\n      <td>Sem_1</td>\n      <td>SEMI0015183</td>\n      <td>Paper 2</td>\n      <td>74</td>\n    </tr>\n    <tr>\n      <th>2</th>\n      <td>SID20131143</td>\n      <td>Sem_1</td>\n      <td>SEMI0018371</td>\n      <td>Paper 3</td>\n      <td>80</td>\n    </tr>\n    <tr>\n      <th>3</th>\n      <td>SID20131143</td>\n      <td>Sem_1</td>\n      <td>SEMI0015910</td>\n      <td>Paper 4</td>\n      <td>44</td>\n    </tr>\n    <tr>\n      <th>4</th>\n      <td>SID20131143</td>\n      <td>Sem_1</td>\n      <td>SEMI0016208</td>\n      <td>Paper 5</td>\n      <td>95</td>\n    </tr>\n    <tr>\n      <th>5</th>\n      <td>SID20131143</td>\n      <td>Sem_1</td>\n      <td>SEMI0017431</td>\n      <td>Paper 6</td>\n      <td>61</td>\n    </tr>\n    <tr>\n      <th>6</th>\n      <td>SID20131143</td>\n      <td>Sem_1</td>\n      <td>SEMI0014130</td>\n      <td>Paper 7</td>\n      <td>90</td>\n    </tr>\n    <tr>\n      <th>7</th>\n      <td>SID20131143</td>\n      <td>Sem_2</td>\n      <td>SEMI0024747</td>\n      <td>Paper 1</td>\n      <td>92</td>\n    </tr>\n    <tr>\n      <th>8</th>\n      <td>SID20131143</td>\n      <td>Sem_2</td>\n      <td>SEMI0025909</td>\n      <td>Paper 2</td>\n      <td>57</td>\n    </tr>\n    <tr>\n      <th>9</th>\n      <td>SID20131143</td>\n      <td>Sem_2</td>\n      <td>SEMI0022443</td>\n      <td>Paper 3</td>\n      <td>91</td>\n    </tr>\n    <tr>\n      <th>10</th>\n      <td>SID20131143</td>\n      <td>Sem_2</td>\n      <td>SEMI0025077</td>\n      <td>Paper 4</td>\n      <td>84</td>\n    </tr>\n    <tr>\n      <th>11</th>\n      <td>SID20131143</td>\n      <td>Sem_2</td>\n      <td>SEMI0029604</td>\n      <td>Paper 5</td>\n      <td>80</td>\n    </tr>\n    <tr>\n      <th>12</th>\n      <td>SID20131143</td>\n      <td>Sem_2</td>\n      <td>SEMI0029061</td>\n      <td>Paper 6</td>\n      <td>66</td>\n    </tr>\n    <tr>\n      <th>13</th>\n      <td>SID20131143</td>\n      <td>Sem_2</td>\n      <td>SEMI0022256</td>\n      <td>Paper 7</td>\n      <td>54</td>\n    </tr>\n    <tr>\n      <th>14</th>\n      <td>SID20131143</td>\n      <td>Sem_3</td>\n      <td>SEMI0037924</td>\n      <td>Paper 1</td>\n      <td>76</td>\n    </tr>\n    <tr>\n      <th>15</th>\n      <td>SID20131143</td>\n      <td>Sem_3</td>\n      <td>SEMI0034580</td>\n      <td>Paper 2</td>\n      <td>83</td>\n    </tr>\n    <tr>\n      <th>16</th>\n      <td>SID20131143</td>\n      <td>Sem_3</td>\n      <td>SEMI0033576</td>\n      <td>Paper 3</td>\n      <td>41</td>\n    </tr>\n    <tr>\n      <th>17</th>\n      <td>SID20131143</td>\n      <td>Sem_3</td>\n      <td>SEMI0031818</td>\n      <td>Paper 4</td>\n      <td>80</td>\n    </tr>\n    <tr>\n      <th>18</th>\n      <td>SID20131143</td>\n      <td>Sem_3</td>\n      <td>SEMI0039951</td>\n      <td>Paper 5</td>\n      <td>69</td>\n    </tr>\n    <tr>\n      <th>19</th>\n      <td>SID20131143</td>\n      <td>Sem_3</td>\n      <td>SEMI0039037</td>\n      <td>Paper 6</td>\n      <td>73</td>\n    </tr>\n  </tbody>\n</table>\n</div>",
            "text/plain": "     Student_ID Semster_Name     Paper_ID Paper_Name  Marks\n0   SID20131143        Sem_1  SEMI0012995    Paper 1     44\n1   SID20131143        Sem_1  SEMI0015183    Paper 2     74\n2   SID20131143        Sem_1  SEMI0018371    Paper 3     80\n3   SID20131143        Sem_1  SEMI0015910    Paper 4     44\n4   SID20131143        Sem_1  SEMI0016208    Paper 5     95\n5   SID20131143        Sem_1  SEMI0017431    Paper 6     61\n6   SID20131143        Sem_1  SEMI0014130    Paper 7     90\n7   SID20131143        Sem_2  SEMI0024747    Paper 1     92\n8   SID20131143        Sem_2  SEMI0025909    Paper 2     57\n9   SID20131143        Sem_2  SEMI0022443    Paper 3     91\n10  SID20131143        Sem_2  SEMI0025077    Paper 4     84\n11  SID20131143        Sem_2  SEMI0029604    Paper 5     80\n12  SID20131143        Sem_2  SEMI0029061    Paper 6     66\n13  SID20131143        Sem_2  SEMI0022256    Paper 7     54\n14  SID20131143        Sem_3  SEMI0037924    Paper 1     76\n15  SID20131143        Sem_3  SEMI0034580    Paper 2     83\n16  SID20131143        Sem_3  SEMI0033576    Paper 3     41\n17  SID20131143        Sem_3  SEMI0031818    Paper 4     80\n18  SID20131143        Sem_3  SEMI0039951    Paper 5     69\n19  SID20131143        Sem_3  SEMI0039037    Paper 6     73"
          },
          "metadata": {}
        }
      ]
    },
    {
      "metadata": {},
      "cell_type": "markdown",
      "source": "The data has the following columns:\n* Student_ID: Identification of the student\n* Semster_ID:  Identification of the semester\n* Paper_ID:  Identification of the paper (do not use)\n* Paper_Name:  Name of the paper, could be used as the ID of the paper\n* Marks: Grade of the student in that paper (0-100)"
    },
    {
      "metadata": {},
      "cell_type": "markdown",
      "source": "You need to infer the grade in \"Paper 7\" based on the grades of papers 1 to 6.  Use a Linear Regression Model\n\nNOTE:  You should group the data by student and semester.  Then you have to change the shape of the dataset so:\n* Each row is a student-semester combination\n* Each column is the grade in a Paper number:  Paper1 Paper2 Paper3 Paper4 Paper5 Paper6\n* This shape can be had using the equivalent of Cast and Melt in R"
    },
    {
      "metadata": {},
      "cell_type": "markdown",
      "source": "## Deliverable:\nYou should create a Python-Dash dashboard where you set the value of the first 6 papers and it will return the grade of the seventh paper.  Publish the URL of the dashboard in NYU Classes."
    },
    {
      "metadata": {},
      "cell_type": "markdown",
      "source": "## Extra Credit:\n* Use something different that Linear Regression (2 points)\n* Create some time of visualization to represent the prediction (2 points)\n* Create a model that could handle missing values in some of the papers (5 points)"
    },
    {
      "metadata": {
        "trusted": true
      },
      "cell_type": "code",
      "source": "",
      "execution_count": null,
      "outputs": []
    }
  ],
  "metadata": {
    "kernelspec": {
      "name": "python36",
      "display_name": "Python 3.6",
      "language": "python"
    },
    "language_info": {
      "mimetype": "text/x-python",
      "nbconvert_exporter": "python",
      "name": "python",
      "pygments_lexer": "ipython3",
      "version": "3.6.6",
      "file_extension": ".py",
      "codemirror_mode": {
        "version": 3,
        "name": "ipython"
      }
    }
  },
  "nbformat": 4,
  "nbformat_minor": 2
}